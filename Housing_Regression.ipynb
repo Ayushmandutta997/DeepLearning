{
  "nbformat": 4,
  "nbformat_minor": 0,
  "metadata": {
    "colab": {
      "provenance": []
    },
    "kernelspec": {
      "name": "python3",
      "display_name": "Python 3"
    },
    "language_info": {
      "name": "python"
    }
  },
  "cells": [
    {
      "cell_type": "code",
      "execution_count": null,
      "metadata": {
        "id": "c28t7GKi8DE9"
      },
      "outputs": [],
      "source": [
        "import numpy as np\n",
        "import pandas as pd\n",
        "import tensorflow as tf\n",
        "from tensorflow import keras\n",
        "import matplotlib as mpl\n",
        "import matplotlib.pyplot as plt"
      ]
    },
    {
      "cell_type": "code",
      "source": [
        "from sklearn.datasets import fetch_california_housing\n",
        "housing=fetch_california_housing()"
      ],
      "metadata": {
        "id": "gi9Dg0HU8WhQ"
      },
      "execution_count": null,
      "outputs": []
    },
    {
      "cell_type": "code",
      "source": [
        "housing.feature_names"
      ],
      "metadata": {
        "colab": {
          "base_uri": "https://localhost:8080/"
        },
        "id": "RM7lkMSJ9BkU",
        "outputId": "a4e84b25-4870-4620-9cf6-995aaf9cfb07"
      },
      "execution_count": null,
      "outputs": [
        {
          "output_type": "execute_result",
          "data": {
            "text/plain": [
              "['MedInc',\n",
              " 'HouseAge',\n",
              " 'AveRooms',\n",
              " 'AveBedrms',\n",
              " 'Population',\n",
              " 'AveOccup',\n",
              " 'Latitude',\n",
              " 'Longitude']"
            ]
          },
          "metadata": {},
          "execution_count": 9
        }
      ]
    },
    {
      "cell_type": "code",
      "source": [
        "from sklearn.model_selection import train_test_split\n",
        "xtrain,xtest,ytrain,ytest=train_test_split(housing.data,housing.target,random_state=42)\n",
        "xtrain,xvalid,ytrain,yvalid=train_test_split(xtrain,ytrain,random_state=42)"
      ],
      "metadata": {
        "id": "362e9NbD_-JH"
      },
      "execution_count": null,
      "outputs": []
    },
    {
      "cell_type": "code",
      "source": [
        "from sklearn.preprocessing import StandardScaler\n",
        "scaler=StandardScaler()\n",
        "xtrain=scaler.fit_transform(xtrain)\n",
        "xtest=scaler.fit_transform(xtest)\n",
        "xvalid=scaler.fit_transform(xvalid)"
      ],
      "metadata": {
        "id": "J_rz86nOA5k8"
      },
      "execution_count": null,
      "outputs": []
    },
    {
      "cell_type": "code",
      "source": [
        "xtrain.shape"
      ],
      "metadata": {
        "colab": {
          "base_uri": "https://localhost:8080/"
        },
        "id": "Gb93yx4RY18y",
        "outputId": "c20b6053-6c90-4aec-bd16-cfee7ca9728f"
      },
      "execution_count": null,
      "outputs": [
        {
          "output_type": "execute_result",
          "data": {
            "text/plain": [
              "(11610, 8)"
            ]
          },
          "metadata": {},
          "execution_count": 7
        }
      ]
    },
    {
      "cell_type": "code",
      "source": [
        "model=keras.models.Sequential([\n",
        "    keras.layers.Dense(30,activation=\"relu\",input_shape=[8]),\n",
        "    keras.layers.Dense(30,activation=\"relu\"),\n",
        "    keras.layers.Dense(1),\n",
        "])\n",
        "model.summary()"
      ],
      "metadata": {
        "colab": {
          "base_uri": "https://localhost:8080/"
        },
        "id": "bucQ5Uo5ZYLO",
        "outputId": "6140ae78-17e5-4795-fac2-677d6007fdfb"
      },
      "execution_count": null,
      "outputs": [
        {
          "output_type": "stream",
          "name": "stdout",
          "text": [
            "Model: \"sequential\"\n",
            "_________________________________________________________________\n",
            " Layer (type)                Output Shape              Param #   \n",
            "=================================================================\n",
            " dense (Dense)               (None, 30)                270       \n",
            "                                                                 \n",
            " dense_1 (Dense)             (None, 30)                930       \n",
            "                                                                 \n",
            " dense_2 (Dense)             (None, 1)                 31        \n",
            "                                                                 \n",
            "=================================================================\n",
            "Total params: 1,231\n",
            "Trainable params: 1,231\n",
            "Non-trainable params: 0\n",
            "_________________________________________________________________\n"
          ]
        }
      ]
    },
    {
      "cell_type": "code",
      "source": [
        "model.compile(loss=\"mean_squared_error\",optimizer=keras.optimizers.SGD(learning_rate=1e-3),metrics=[\"mae\"])"
      ],
      "metadata": {
        "id": "vAy-ptG-a6UK"
      },
      "execution_count": null,
      "outputs": []
    },
    {
      "cell_type": "code",
      "source": [
        "trainedmodel=model.fit(xtrain,ytrain,epochs=20,validation_data=(xvalid,yvalid))"
      ],
      "metadata": {
        "colab": {
          "base_uri": "https://localhost:8080/"
        },
        "id": "HD2zmaz9bxFd",
        "outputId": "f380381c-d9cb-4632-e4d4-bc5b1aed2bca"
      },
      "execution_count": null,
      "outputs": [
        {
          "output_type": "stream",
          "name": "stdout",
          "text": [
            "Epoch 1/20\n",
            "363/363 [==============================] - 1s 3ms/step - loss: 0.3958 - mae: 0.4522 - val_loss: 0.4599 - val_mae: 0.4991\n",
            "Epoch 2/20\n",
            "363/363 [==============================] - 1s 2ms/step - loss: 0.3931 - mae: 0.4499 - val_loss: 0.4574 - val_mae: 0.4969\n",
            "Epoch 3/20\n",
            "363/363 [==============================] - 1s 2ms/step - loss: 0.3908 - mae: 0.4486 - val_loss: 0.4556 - val_mae: 0.4936\n",
            "Epoch 4/20\n",
            "363/363 [==============================] - 1s 2ms/step - loss: 0.3885 - mae: 0.4470 - val_loss: 0.4543 - val_mae: 0.4934\n",
            "Epoch 5/20\n",
            "363/363 [==============================] - 1s 3ms/step - loss: 0.3869 - mae: 0.4453 - val_loss: 0.4523 - val_mae: 0.4921\n",
            "Epoch 6/20\n",
            "363/363 [==============================] - 1s 3ms/step - loss: 0.3844 - mae: 0.4443 - val_loss: 0.4467 - val_mae: 0.4835\n",
            "Epoch 7/20\n",
            "363/363 [==============================] - 1s 3ms/step - loss: 0.3829 - mae: 0.4422 - val_loss: 0.4519 - val_mae: 0.4945\n",
            "Epoch 8/20\n",
            "363/363 [==============================] - 1s 2ms/step - loss: 0.3812 - mae: 0.4427 - val_loss: 0.4446 - val_mae: 0.4821\n",
            "Epoch 9/20\n",
            "363/363 [==============================] - 1s 2ms/step - loss: 0.3797 - mae: 0.4404 - val_loss: 0.4445 - val_mae: 0.4839\n",
            "Epoch 10/20\n",
            "363/363 [==============================] - 1s 2ms/step - loss: 0.3780 - mae: 0.4395 - val_loss: 0.4457 - val_mae: 0.4853\n",
            "Epoch 11/20\n",
            "363/363 [==============================] - 1s 2ms/step - loss: 0.3764 - mae: 0.4384 - val_loss: 0.4443 - val_mae: 0.4839\n",
            "Epoch 12/20\n",
            "363/363 [==============================] - 1s 3ms/step - loss: 0.3756 - mae: 0.4379 - val_loss: 0.4422 - val_mae: 0.4800\n",
            "Epoch 13/20\n",
            "363/363 [==============================] - 1s 2ms/step - loss: 0.3742 - mae: 0.4369 - val_loss: 0.4437 - val_mae: 0.4832\n",
            "Epoch 14/20\n",
            "363/363 [==============================] - 1s 2ms/step - loss: 0.3727 - mae: 0.4359 - val_loss: 0.4440 - val_mae: 0.4831\n",
            "Epoch 15/20\n",
            "363/363 [==============================] - 1s 3ms/step - loss: 0.3722 - mae: 0.4347 - val_loss: 0.4426 - val_mae: 0.4846\n",
            "Epoch 16/20\n",
            "363/363 [==============================] - 1s 2ms/step - loss: 0.3709 - mae: 0.4346 - val_loss: 0.4412 - val_mae: 0.4818\n",
            "Epoch 17/20\n",
            "363/363 [==============================] - 1s 3ms/step - loss: 0.3698 - mae: 0.4338 - val_loss: 0.4394 - val_mae: 0.4784\n",
            "Epoch 18/20\n",
            "363/363 [==============================] - 1s 3ms/step - loss: 0.3686 - mae: 0.4328 - val_loss: 0.4410 - val_mae: 0.4817\n",
            "Epoch 19/20\n",
            "363/363 [==============================] - 1s 2ms/step - loss: 0.3679 - mae: 0.4324 - val_loss: 0.4391 - val_mae: 0.4786\n",
            "Epoch 20/20\n",
            "363/363 [==============================] - 1s 3ms/step - loss: 0.3668 - mae: 0.4312 - val_loss: 0.4390 - val_mae: 0.4803\n"
          ]
        }
      ]
    },
    {
      "cell_type": "code",
      "source": [
        "maetest=model.evaluate(xtest, ytest)"
      ],
      "metadata": {
        "colab": {
          "base_uri": "https://localhost:8080/"
        },
        "id": "JbGOAO_ypGOl",
        "outputId": "c649d42f-d699-43b5-8074-dfd65cd59fb2"
      },
      "execution_count": null,
      "outputs": [
        {
          "output_type": "stream",
          "name": "stdout",
          "text": [
            "162/162 [==============================] - 0s 2ms/step - loss: 0.3860 - mae: 0.4519\n"
          ]
        }
      ]
    },
    {
      "cell_type": "code",
      "source": [
        "import pandas as pd\n",
        "pd.DataFrame(trainedmodel.history).plot(figsize=(8,5))\n",
        "plt.grid(True)\n",
        "plt.gca().set_ylim(0,1)\n",
        "plt.show()"
      ],
      "metadata": {
        "colab": {
          "base_uri": "https://localhost:8080/",
          "height": 451
        },
        "id": "BIWsyn9vppac",
        "outputId": "1fd7ff1e-efa3-41d2-d626-8f44dc01aa7c"
      },
      "execution_count": null,
      "outputs": [
        {
          "output_type": "display_data",
          "data": {
            "text/plain": [
              "<Figure size 800x500 with 1 Axes>"
            ],
            "image/png": "[encoded data removed]"
          },
          "metadata": {}
        }
      ]
    },
    {
      "cell_type": "code",
      "source": [
        "xtest_new=xtest[:3]\n",
        "y_prob=model.predict(xtest_new)\n",
        "print(y_prob)\n",
        "print(ytest[:3])"
      ],
      "metadata": {
        "colab": {
          "base_uri": "https://localhost:8080/"
        },
        "id": "w0ysrgrkq0ok",
        "outputId": "ee7eb74e-273a-4c6e-e69d-150b9a3bb192"
      },
      "execution_count": null,
      "outputs": [
        {
          "output_type": "stream",
          "name": "stdout",
          "text": [
            "1/1 [==============================] - 0s 92ms/step\n",
            "[[0.813883 ]\n",
            " [1.7731032]\n",
            " [4.5712996]]\n",
            "[0.477   0.458   5.00001]\n"
          ]
        }
      ]
    },
    {
      "cell_type": "code",
      "source": [
        "del model\n",
        "keras.backend.clear_session()"
      ],
      "metadata": {
        "id": "GNcyh3P1rmdS"
      },
      "execution_count": null,
      "outputs": []
    },
    {
      "cell_type": "code",
      "source": [
        "xtrain.shape"
      ],
      "metadata": {
        "colab": {
          "base_uri": "https://localhost:8080/"
        },
        "id": "3WHomNUu4v0-",
        "outputId": "c2ee904c-0695-4465-edb9-b484de8e315c"
      },
      "execution_count": null,
      "outputs": [
        {
          "output_type": "execute_result",
          "data": {
            "text/plain": [
              "(11610, 8)"
            ]
          },
          "metadata": {},
          "execution_count": 22
        }
      ]
    },
    {
      "cell_type": "code",
      "source": [
        "input_=keras.layers.Input(shape=xtrain.shape[1:])\n",
        "hidden1=keras.layers.Dense(30,activation=\"relu\")(input_)\n",
        "hidden2=keras.layers.Dense(30,activation=\"relu\")(hidden1)\n",
        "concat=keras.layers.concatenate([input_,hidden2])\n",
        "output=keras.layers.Dense(1)(concat)\n",
        "model=keras.models.Model(inputs=[input_],outputs=[output])"
      ],
      "metadata": {
        "id": "pBkXu1f54Lwg"
      },
      "execution_count": null,
      "outputs": []
    },
    {
      "cell_type": "code",
      "source": [
        "model.summary()"
      ],
      "metadata": {
        "colab": {
          "base_uri": "https://localhost:8080/"
        },
        "id": "-vWt2_L66-ha",
        "outputId": "d9549c31-b0cc-4e9f-ae41-72e7bfd9e289"
      },
      "execution_count": null,
      "outputs": [
        {
          "output_type": "stream",
          "name": "stdout",
          "text": [
            "Model: \"model\"\n",
            "__________________________________________________________________________________________________\n",
            " Layer (type)                   Output Shape         Param #     Connected to                     \n",
            "==================================================================================================\n",
            " input_2 (InputLayer)           [(None, 8)]          0           []                               \n",
            "                                                                                                  \n",
            " dense_2 (Dense)                (None, 30)           270         ['input_2[0][0]']                \n",
            "                                                                                                  \n",
            " dense_3 (Dense)                (None, 30)           930         ['dense_2[0][0]']                \n",
            "                                                                                                  \n",
            " concatenate (Concatenate)      (None, 38)           0           ['input_2[0][0]',                \n",
            "                                                                  'dense_3[0][0]']                \n",
            "                                                                                                  \n",
            " dense_4 (Dense)                (None, 1)            39          ['concatenate[0][0]']            \n",
            "                                                                                                  \n",
            "==================================================================================================\n",
            "Total params: 1,239\n",
            "Trainable params: 1,239\n",
            "Non-trainable params: 0\n",
            "__________________________________________________________________________________________________\n"
          ]
        }
      ]
    },
    {
      "cell_type": "code",
      "source": [
        "model.compile(loss=\"mean_squared_error\",optimizer=keras.optimizers.SGD(learning_rate=1e-3),metrics=[\"mae\"])"
      ],
      "metadata": {
        "id": "hCn_vJFV70HU"
      },
      "execution_count": null,
      "outputs": []
    },
    {
      "cell_type": "code",
      "source": [
        "Trained_model=model.fit(xtrain,ytrain,epochs=20,validation_data=(xvalid,yvalid))\n",
        "maetest=model.evaluate(xtest,ytest)"
      ],
      "metadata": {
        "colab": {
          "base_uri": "https://localhost:8080/"
        },
        "id": "n_feraIG8YEo",
        "outputId": "5e8cc034-7597-4a05-b610-8db0ff127a15"
      },
      "execution_count": null,
      "outputs": [
        {
          "output_type": "stream",
          "name": "stdout",
          "text": [
            "Epoch 1/20\n",
            "363/363 [==============================] - 2s 4ms/step - loss: 1.7855 - mae: 0.9506 - val_loss: 0.7283 - val_mae: 0.6318\n",
            "Epoch 2/20\n",
            "363/363 [==============================] - 1s 2ms/step - loss: 0.6717 - mae: 0.6072 - val_loss: 0.6565 - val_mae: 0.5992\n",
            "Epoch 3/20\n",
            "363/363 [==============================] - 1s 2ms/step - loss: 0.6100 - mae: 0.5736 - val_loss: 0.6092 - val_mae: 0.5748\n",
            "Epoch 4/20\n",
            "363/363 [==============================] - 1s 2ms/step - loss: 0.5696 - mae: 0.5497 - val_loss: 0.5758 - val_mae: 0.5563\n",
            "Epoch 5/20\n",
            "363/363 [==============================] - 1s 3ms/step - loss: 0.5381 - mae: 0.5311 - val_loss: 0.5505 - val_mae: 0.5437\n",
            "Epoch 6/20\n",
            "363/363 [==============================] - 1s 2ms/step - loss: 0.5140 - mae: 0.5166 - val_loss: 0.5347 - val_mae: 0.5384\n",
            "Epoch 7/20\n",
            "363/363 [==============================] - 1s 3ms/step - loss: 0.4944 - mae: 0.5052 - val_loss: 0.5157 - val_mae: 0.5262\n",
            "Epoch 8/20\n",
            "363/363 [==============================] - 1s 2ms/step - loss: 0.4786 - mae: 0.4957 - val_loss: 0.5023 - val_mae: 0.5182\n",
            "Epoch 9/20\n",
            "363/363 [==============================] - 1s 3ms/step - loss: 0.4657 - mae: 0.4887 - val_loss: 0.4915 - val_mae: 0.5109\n",
            "Epoch 10/20\n",
            "363/363 [==============================] - 1s 3ms/step - loss: 0.4553 - mae: 0.4819 - val_loss: 0.4848 - val_mae: 0.5097\n",
            "Epoch 11/20\n",
            "363/363 [==============================] - 1s 3ms/step - loss: 0.4464 - mae: 0.4773 - val_loss: 0.4782 - val_mae: 0.5063\n",
            "Epoch 12/20\n",
            "363/363 [==============================] - 1s 2ms/step - loss: 0.4388 - mae: 0.4724 - val_loss: 0.4770 - val_mae: 0.5106\n",
            "Epoch 13/20\n",
            "363/363 [==============================] - 1s 2ms/step - loss: 0.4325 - mae: 0.4701 - val_loss: 0.4667 - val_mae: 0.4990\n",
            "Epoch 14/20\n",
            "363/363 [==============================] - 1s 2ms/step - loss: 0.4267 - mae: 0.4660 - val_loss: 0.4632 - val_mae: 0.4980\n",
            "Epoch 15/20\n",
            "363/363 [==============================] - 1s 2ms/step - loss: 0.4214 - mae: 0.4635 - val_loss: 0.4581 - val_mae: 0.4928\n",
            "Epoch 16/20\n",
            "363/363 [==============================] - 1s 2ms/step - loss: 0.4167 - mae: 0.4603 - val_loss: 0.4561 - val_mae: 0.4945\n",
            "Epoch 17/20\n",
            "363/363 [==============================] - 1s 2ms/step - loss: 0.4124 - mae: 0.4577 - val_loss: 0.4551 - val_mae: 0.4961\n",
            "Epoch 18/20\n",
            "363/363 [==============================] - 1s 2ms/step - loss: 0.4081 - mae: 0.4558 - val_loss: 0.4512 - val_mae: 0.4928\n",
            "Epoch 19/20\n",
            "363/363 [==============================] - 1s 2ms/step - loss: 0.4044 - mae: 0.4533 - val_loss: 0.4513 - val_mae: 0.4959\n",
            "Epoch 20/20\n",
            "363/363 [==============================] - 1s 3ms/step - loss: 0.4009 - mae: 0.4522 - val_loss: 0.4455 - val_mae: 0.4853\n",
            "162/162 [==============================] - 0s 1ms/step - loss: 0.3988 - mae: 0.4594\n"
          ]
        }
      ]
    },
    {
      "cell_type": "code",
      "source": [
        "import pandas as pd\n",
        "pd.DataFrame(Trained_model.history).plot(figsize=(8,5))\n",
        "plt.grid(True)\n",
        "plt.gca().set_ylim(0,1)\n",
        "plt.show()"
      ],
      "metadata": {
        "colab": {
          "base_uri": "https://localhost:8080/",
          "height": 451
        },
        "id": "2a7ekuVHCcE8",
        "outputId": "f41c5042-4ce6-4704-d2b6-adc01e240ed5"
      },
      "execution_count": null,
      "outputs": [
        {
          "output_type": "display_data",
          "data": {
            "text/plain": [
              "<Figure size 800x500 with 1 Axes>"
            ],
            "image/png": "[encoded data removed]"
          },
          "metadata": {}
        }
      ]
    },
    {
      "cell_type": "code",
      "source": [
        "maetest"
      ],
      "metadata": {
        "colab": {
          "base_uri": "https://localhost:8080/"
        },
        "id": "ptBBmRIlC8Tx",
        "outputId": "573c3a8b-fa6b-406a-821d-bcfd6f1a1250"
      },
      "execution_count": null,
      "outputs": [
        {
          "output_type": "execute_result",
          "data": {
            "text/plain": [
              "[0.3987649083137512, 0.4594087302684784]"
            ]
          },
          "metadata": {},
          "execution_count": 29
        }
      ]
    },
    {
      "cell_type": "code",
      "source": [
        "%pwd"
      ],
      "metadata": {
        "colab": {
          "base_uri": "https://localhost:8080/",
          "height": 36
        },
        "id": "6osifHoyDCMW",
        "outputId": "a4f27393-deb3-474f-96b4-ef9a543f265a"
      },
      "execution_count": null,
      "outputs": [
        {
          "output_type": "execute_result",
          "data": {
            "text/plain": [
              "'/content'"
            ],
            "application/vnd.google.colaboratory.intrinsic+json": {
              "type": "string"
            }
          },
          "metadata": {},
          "execution_count": 30
        }
      ]
    },
    {
      "cell_type": "code",
      "source": [
        "model.save(\"Housing_Sklearn_FunctionalAPI.h5\")"
      ],
      "metadata": {
        "id": "o4lAMr97EFDW"
      },
      "execution_count": null,
      "outputs": []
    },
    {
      "cell_type": "code",
      "source": [
        "%cd /content"
      ],
      "metadata": {
        "colab": {
          "base_uri": "https://localhost:8080/"
        },
        "id": "EPUW0X0lEO4X",
        "outputId": "458d9f3f-4d13-484c-bbf0-786e00e87bfc"
      },
      "execution_count": null,
      "outputs": [
        {
          "output_type": "stream",
          "name": "stdout",
          "text": [
            "/content\n"
          ]
        }
      ]
    },
    {
      "cell_type": "code",
      "source": [
        "del model"
      ],
      "metadata": {
        "id": "gjQVZ8muEv-3"
      },
      "execution_count": null,
      "outputs": []
    },
    {
      "cell_type": "code",
      "source": [
        "keras.backend.clear_session()"
      ],
      "metadata": {
        "id": "Z23BwVi_E2CJ"
      },
      "execution_count": null,
      "outputs": []
    },
    {
      "cell_type": "code",
      "source": [
        "model=keras.models.load_model(\"Housing_Sklearn_FunctionalAPI.h5\")"
      ],
      "metadata": {
        "id": "VBGMj6TOFI3k"
      },
      "execution_count": null,
      "outputs": []
    },
    {
      "cell_type": "code",
      "source": [
        "model.summary()"
      ],
      "metadata": {
        "colab": {
          "base_uri": "https://localhost:8080/"
        },
        "id": "sRM0zPowFqCG",
        "outputId": "ab895268-bc1c-4547-c8ea-9e565c6afa07"
      },
      "execution_count": null,
      "outputs": [
        {
          "output_type": "stream",
          "name": "stdout",
          "text": [
            "Model: \"model\"\n",
            "__________________________________________________________________________________________________\n",
            " Layer (type)                   Output Shape         Param #     Connected to                     \n",
            "==================================================================================================\n",
            " input_2 (InputLayer)           [(None, 8)]          0           []                               \n",
            "                                                                                                  \n",
            " dense_2 (Dense)                (None, 30)           270         ['input_2[0][0]']                \n",
            "                                                                                                  \n",
            " dense_3 (Dense)                (None, 30)           930         ['dense_2[0][0]']                \n",
            "                                                                                                  \n",
            " concatenate (Concatenate)      (None, 38)           0           ['input_2[0][0]',                \n",
            "                                                                  'dense_3[0][0]']                \n",
            "                                                                                                  \n",
            " dense_4 (Dense)                (None, 1)            39          ['concatenate[0][0]']            \n",
            "                                                                                                  \n",
            "==================================================================================================\n",
            "Total params: 1,239\n",
            "Trainable params: 1,239\n",
            "Non-trainable params: 0\n",
            "__________________________________________________________________________________________________\n"
          ]
        }
      ]
    },
    {
      "cell_type": "markdown",
      "source": [
        "#**Using Callbacks during training**"
      ],
      "metadata": {
        "id": "vP6VISJfGurg"
      }
    },
    {
      "cell_type": "code",
      "source": [
        "keras.backend.clear_session()\n",
        "np.random.seed(42)\n",
        "tf.random.set_seed(42)"
      ],
      "metadata": {
        "id": "Wf6O4thHGsUm"
      },
      "execution_count": null,
      "outputs": []
    },
    {
      "cell_type": "code",
      "source": [
        "model=keras.models.Sequential()\n",
        "model.add(keras.layers.Dense(30,activation=\"relu\",input_shape=[8]))\n",
        "model.add(keras.layers.Dense(30,activation=\"relu\"))\n",
        "model.add(keras.layers.Dense(1))"
      ],
      "metadata": {
        "id": "qGYcEcxJKCDM"
      },
      "execution_count": null,
      "outputs": []
    },
    {
      "cell_type": "code",
      "source": [
        "model.compile(loss=\"mean_squared_error\",optimizer=keras.optimizers.SGD(learning_rate=1e-3),metrics=[\"mae\"])"
      ],
      "metadata": {
        "id": "fBoC__7rLM2x"
      },
      "execution_count": null,
      "outputs": []
    },
    {
      "cell_type": "code",
      "source": [
        "checkpoint=keras.callbacks.ModelCheckpoint(\"Model-{epoch:02d}.h5\")"
      ],
      "metadata": {
        "id": "YeVyW87xMQQq"
      },
      "execution_count": null,
      "outputs": []
    },
    {
      "cell_type": "code",
      "source": [
        "history=model.fit(xtrain,ytrain,epochs=10,validation_data=(xvalid,yvalid),callbacks=[checkpoint])"
      ],
      "metadata": {
        "colab": {
          "base_uri": "https://localhost:8080/"
        },
        "id": "3WqkdWl6MmPX",
        "outputId": "3fd04f8a-e6d1-4ff5-fa4e-3487a3e498b7"
      },
      "execution_count": null,
      "outputs": [
        {
          "output_type": "stream",
          "name": "stdout",
          "text": [
            "Epoch 1/10\n",
            "363/363 [==============================] - 2s 3ms/step - loss: 2.2858 - mae: 1.0526 - val_loss: 0.8618 - val_mae: 0.7069\n",
            "Epoch 2/10\n",
            "363/363 [==============================] - 1s 3ms/step - loss: 0.7721 - mae: 0.6622 - val_loss: 0.7152 - val_mae: 0.6375\n",
            "Epoch 3/10\n",
            "363/363 [==============================] - 1s 3ms/step - loss: 0.6859 - mae: 0.6123 - val_loss: 0.6613 - val_mae: 0.6015\n",
            "Epoch 4/10\n",
            "363/363 [==============================] - 1s 2ms/step - loss: 0.6383 - mae: 0.5844 - val_loss: 0.6337 - val_mae: 0.5925\n",
            "Epoch 5/10\n",
            "363/363 [==============================] - 1s 2ms/step - loss: 0.6018 - mae: 0.5648 - val_loss: 0.6019 - val_mae: 0.5729\n",
            "Epoch 6/10\n",
            "363/363 [==============================] - 1s 2ms/step - loss: 0.5699 - mae: 0.5481 - val_loss: 0.5805 - val_mae: 0.5642\n",
            "Epoch 7/10\n",
            "363/363 [==============================] - 1s 2ms/step - loss: 0.5427 - mae: 0.5334 - val_loss: 0.5592 - val_mae: 0.5533\n",
            "Epoch 8/10\n",
            "363/363 [==============================] - 1s 2ms/step - loss: 0.5182 - mae: 0.5201 - val_loss: 0.5414 - val_mae: 0.5438\n",
            "Epoch 9/10\n",
            "363/363 [==============================] - 1s 2ms/step - loss: 0.4972 - mae: 0.5093 - val_loss: 0.5263 - val_mae: 0.5369\n",
            "Epoch 10/10\n",
            "363/363 [==============================] - 1s 2ms/step - loss: 0.4794 - mae: 0.4997 - val_loss: 0.5116 - val_mae: 0.5275\n"
          ]
        }
      ]
    },
    {
      "cell_type": "markdown",
      "source": [
        "#BEST MODEL ONLY"
      ],
      "metadata": {
        "id": "XiUHQDGbY5VT"
      }
    },
    {
      "cell_type": "code",
      "source": [
        "del model\n",
        "keras.backend.clear_session()"
      ],
      "metadata": {
        "id": "VBRltgZ-Y9S0"
      },
      "execution_count": null,
      "outputs": []
    },
    {
      "cell_type": "code",
      "source": [
        "model=keras.models.Sequential([\n",
        "    keras.layers.Dense(30,activation=\"relu\",input_shape=[8]),\n",
        "    keras.layers.Dense(30,activation=\"relu\"),\n",
        "    keras.layers.Dense(1)\n",
        "])"
      ],
      "metadata": {
        "id": "216wXGWoZGg1"
      },
      "execution_count": null,
      "outputs": []
    },
    {
      "cell_type": "code",
      "source": [
        "model.compile(loss=\"mean_squared_error\",optimizer=keras.optimizers.SGD(learning_rate=1e-3),metrics=[\"mae\"])\n",
        "checkpoint=keras.callbacks.ModelCheckpoint(\"Best_Model.h5\",save_best_only=True)"
      ],
      "metadata": {
        "id": "BakSQHg_aVoD"
      },
      "execution_count": null,
      "outputs": []
    },
    {
      "cell_type": "code",
      "source": [
        "history=model.fit(xtrain,ytrain,epochs=10,validation_data=(xvalid,yvalid),callbacks=[checkpoint])"
      ],
      "metadata": {
        "colab": {
          "base_uri": "https://localhost:8080/"
        },
        "id": "6s-gwPbNbRDL",
        "outputId": "76395ebd-447f-498b-b2b6-a29e85b14f39"
      },
      "execution_count": null,
      "outputs": [
        {
          "output_type": "stream",
          "name": "stdout",
          "text": [
            "Epoch 1/10\n",
            "363/363 [==============================] - 2s 3ms/step - loss: 1.8423 - mae: 0.9877 - val_loss: 0.8401 - val_mae: 0.6708\n",
            "Epoch 2/10\n",
            "363/363 [==============================] - 1s 2ms/step - loss: 0.7743 - mae: 0.6430 - val_loss: 0.7022 - val_mae: 0.6176\n",
            "Epoch 3/10\n",
            "363/363 [==============================] - 1s 3ms/step - loss: 0.6884 - mae: 0.6072 - val_loss: 0.6542 - val_mae: 0.5891\n",
            "Epoch 4/10\n",
            "363/363 [==============================] - 1s 4ms/step - loss: 0.6402 - mae: 0.5844 - val_loss: 0.6290 - val_mae: 0.5835\n",
            "Epoch 5/10\n",
            "363/363 [==============================] - 2s 5ms/step - loss: 0.6029 - mae: 0.5654 - val_loss: 0.5987 - val_mae: 0.5661\n",
            "Epoch 6/10\n",
            "363/363 [==============================] - 1s 4ms/step - loss: 0.5695 - mae: 0.5496 - val_loss: 0.5728 - val_mae: 0.5536\n",
            "Epoch 7/10\n",
            "363/363 [==============================] - 1s 3ms/step - loss: 0.5417 - mae: 0.5347 - val_loss: 0.5503 - val_mae: 0.5409\n",
            "Epoch 8/10\n",
            "363/363 [==============================] - 1s 2ms/step - loss: 0.5157 - mae: 0.5206 - val_loss: 0.5341 - val_mae: 0.5339\n",
            "Epoch 9/10\n",
            "363/363 [==============================] - 1s 2ms/step - loss: 0.4905 - mae: 0.5075 - val_loss: 0.5145 - val_mae: 0.5237\n",
            "Epoch 10/10\n",
            "363/363 [==============================] - 1s 2ms/step - loss: 0.4701 - mae: 0.4964 - val_loss: 0.4992 - val_mae: 0.5150\n"
          ]
        }
      ]
    },
    {
      "cell_type": "code",
      "source": [
        "model=keras.models.load_model(\"Best_Model.h5\")\n",
        "maetest=model.evaluate(xtest,ytest)"
      ],
      "metadata": {
        "colab": {
          "base_uri": "https://localhost:8080/"
        },
        "id": "E5BO1hF1bspH",
        "outputId": "cafdb041-9048-4f58-d431-8a6b8dbaf750"
      },
      "execution_count": null,
      "outputs": [
        {
          "output_type": "stream",
          "name": "stdout",
          "text": [
            "162/162 [==============================] - 1s 5ms/step - loss: 0.4455 - mae: 0.4869\n"
          ]
        }
      ]
    },
    {
      "cell_type": "markdown",
      "source": [
        "#EARLY STOPPING CALLBACK"
      ],
      "metadata": {
        "id": "vDWpQnjsfms1"
      }
    },
    {
      "cell_type": "code",
      "source": [
        "del model\n",
        "keras.backend.clear_session()"
      ],
      "metadata": {
        "id": "i0cPvEh-cp5v"
      },
      "execution_count": null,
      "outputs": []
    },
    {
      "cell_type": "code",
      "source": [
        "model=keras.models.Sequential([\n",
        "    keras.layers.Dense(30,activation=\"relu\",input_shape=[8]),\n",
        "    keras.layers.Dense(30,activation=\"relu\"),\n",
        "    keras.layers.Dense(1)\n",
        "])"
      ],
      "metadata": {
        "id": "gilpak_zgFN1"
      },
      "execution_count": null,
      "outputs": []
    },
    {
      "cell_type": "code",
      "source": [
        "model.compile(loss=\"mean_squared_error\",optimizer=keras.optimizers.SGD(learning_rate=1e-3),metrics=[\"mae\"])\n",
        "checkpoint=keras.callbacks.ModelCheckpoint(\"early_stop_model.h5\",save_best_only=True)\n",
        "earlystop=keras.callbacks.EarlyStopping(patience=10,restore_best_weights=True)"
      ],
      "metadata": {
        "id": "OCJBuwUzgIDE"
      },
      "execution_count": null,
      "outputs": []
    },
    {
      "cell_type": "code",
      "source": [
        "history=model.fit(xtrain,ytrain,epochs=200,validation_data=(xvalid,yvalid),callbacks=[checkpoint, earlystop])"
      ],
      "metadata": {
        "colab": {
          "base_uri": "https://localhost:8080/"
        },
        "id": "BwnXbuqThF1v",
        "outputId": "b0fbd5dc-dbe3-491d-86c8-d3405595ab42"
      },
      "execution_count": null,
      "outputs": [
        {
          "output_type": "stream",
          "name": "stdout",
          "text": [
            "Epoch 1/200\n",
            "363/363 [==============================] - 1s 2ms/step - loss: 1.8314 - mae: 0.9450 - val_loss: 0.8847 - val_mae: 0.7072\n",
            "Epoch 2/200\n",
            "363/363 [==============================] - 1s 2ms/step - loss: 0.8052 - mae: 0.6738 - val_loss: 0.7429 - val_mae: 0.6517\n",
            "Epoch 3/200\n",
            "363/363 [==============================] - 1s 2ms/step - loss: 0.7053 - mae: 0.6245 - val_loss: 0.6743 - val_mae: 0.6100\n",
            "Epoch 4/200\n",
            "363/363 [==============================] - 1s 2ms/step - loss: 0.6479 - mae: 0.5922 - val_loss: 0.6369 - val_mae: 0.5946\n",
            "Epoch 5/200\n",
            "363/363 [==============================] - 1s 2ms/step - loss: 0.6071 - mae: 0.5690 - val_loss: 0.6030 - val_mae: 0.5715\n",
            "Epoch 6/200\n",
            "363/363 [==============================] - 1s 2ms/step - loss: 0.5754 - mae: 0.5518 - val_loss: 0.5805 - val_mae: 0.5598\n",
            "Epoch 7/200\n",
            "363/363 [==============================] - 1s 2ms/step - loss: 0.5506 - mae: 0.5373 - val_loss: 0.5610 - val_mae: 0.5498\n",
            "Epoch 8/200\n",
            "363/363 [==============================] - 1s 2ms/step - loss: 0.5297 - mae: 0.5260 - val_loss: 0.5448 - val_mae: 0.5393\n",
            "Epoch 9/200\n",
            "363/363 [==============================] - 1s 3ms/step - loss: 0.5122 - mae: 0.5169 - val_loss: 0.5312 - val_mae: 0.5324\n",
            "Epoch 10/200\n",
            "363/363 [==============================] - 1s 3ms/step - loss: 0.4968 - mae: 0.5086 - val_loss: 0.5183 - val_mae: 0.5247\n",
            "Epoch 11/200\n",
            "363/363 [==============================] - 1s 2ms/step - loss: 0.4841 - mae: 0.5012 - val_loss: 0.5098 - val_mae: 0.5234\n",
            "Epoch 12/200\n",
            "363/363 [==============================] - 1s 2ms/step - loss: 0.4725 - mae: 0.4951 - val_loss: 0.5000 - val_mae: 0.5153\n",
            "Epoch 13/200\n",
            "363/363 [==============================] - 1s 2ms/step - loss: 0.4627 - mae: 0.4898 - val_loss: 0.4936 - val_mae: 0.5148\n",
            "Epoch 14/200\n",
            "363/363 [==============================] - 1s 2ms/step - loss: 0.4537 - mae: 0.4841 - val_loss: 0.4876 - val_mae: 0.5124\n",
            "Epoch 15/200\n",
            "363/363 [==============================] - 1s 2ms/step - loss: 0.4458 - mae: 0.4801 - val_loss: 0.4797 - val_mae: 0.5054\n",
            "Epoch 16/200\n",
            "363/363 [==============================] - 1s 2ms/step - loss: 0.4386 - mae: 0.4761 - val_loss: 0.4748 - val_mae: 0.5033\n",
            "Epoch 17/200\n",
            "363/363 [==============================] - 1s 2ms/step - loss: 0.4325 - mae: 0.4719 - val_loss: 0.4690 - val_mae: 0.4975\n",
            "Epoch 18/200\n",
            "363/363 [==============================] - 1s 2ms/step - loss: 0.4267 - mae: 0.4686 - val_loss: 0.4647 - val_mae: 0.4943\n",
            "Epoch 19/200\n",
            "363/363 [==============================] - 1s 2ms/step - loss: 0.4213 - mae: 0.4647 - val_loss: 0.4623 - val_mae: 0.4931\n",
            "Epoch 20/200\n",
            "363/363 [==============================] - 1s 2ms/step - loss: 0.4171 - mae: 0.4622 - val_loss: 0.4581 - val_mae: 0.4935\n",
            "Epoch 21/200\n",
            "363/363 [==============================] - 1s 2ms/step - loss: 0.4128 - mae: 0.4596 - val_loss: 0.4567 - val_mae: 0.4941\n",
            "Epoch 22/200\n",
            "363/363 [==============================] - 1s 2ms/step - loss: 0.4092 - mae: 0.4575 - val_loss: 0.4540 - val_mae: 0.4922\n",
            "Epoch 23/200\n",
            "363/363 [==============================] - 1s 2ms/step - loss: 0.4059 - mae: 0.4561 - val_loss: 0.4492 - val_mae: 0.4823\n",
            "Epoch 24/200\n",
            "363/363 [==============================] - 1s 3ms/step - loss: 0.4029 - mae: 0.4531 - val_loss: 0.4486 - val_mae: 0.4844\n",
            "Epoch 25/200\n",
            "363/363 [==============================] - 1s 3ms/step - loss: 0.4000 - mae: 0.4522 - val_loss: 0.4450 - val_mae: 0.4825\n",
            "Epoch 26/200\n",
            "363/363 [==============================] - 1s 3ms/step - loss: 0.3976 - mae: 0.4503 - val_loss: 0.4441 - val_mae: 0.4830\n",
            "Epoch 27/200\n",
            "363/363 [==============================] - 1s 2ms/step - loss: 0.3954 - mae: 0.4491 - val_loss: 0.4423 - val_mae: 0.4817\n",
            "Epoch 28/200\n",
            "363/363 [==============================] - 1s 2ms/step - loss: 0.3931 - mae: 0.4476 - val_loss: 0.4431 - val_mae: 0.4848\n",
            "Epoch 29/200\n",
            "363/363 [==============================] - 1s 2ms/step - loss: 0.3911 - mae: 0.4464 - val_loss: 0.4410 - val_mae: 0.4823\n",
            "Epoch 30/200\n",
            "363/363 [==============================] - 1s 2ms/step - loss: 0.3890 - mae: 0.4451 - val_loss: 0.4397 - val_mae: 0.4781\n",
            "Epoch 31/200\n",
            "363/363 [==============================] - 1s 2ms/step - loss: 0.3867 - mae: 0.4436 - val_loss: 0.4385 - val_mae: 0.4760\n",
            "Epoch 32/200\n",
            "363/363 [==============================] - 1s 2ms/step - loss: 0.3851 - mae: 0.4424 - val_loss: 0.4415 - val_mae: 0.4855\n",
            "Epoch 33/200\n",
            "363/363 [==============================] - 1s 2ms/step - loss: 0.3838 - mae: 0.4419 - val_loss: 0.4372 - val_mae: 0.4801\n",
            "Epoch 34/200\n",
            "363/363 [==============================] - 1s 2ms/step - loss: 0.3817 - mae: 0.4405 - val_loss: 0.4366 - val_mae: 0.4784\n",
            "Epoch 35/200\n",
            "363/363 [==============================] - 1s 2ms/step - loss: 0.3803 - mae: 0.4393 - val_loss: 0.4383 - val_mae: 0.4829\n",
            "Epoch 36/200\n",
            "363/363 [==============================] - 1s 2ms/step - loss: 0.3786 - mae: 0.4386 - val_loss: 0.4343 - val_mae: 0.4747\n",
            "Epoch 37/200\n",
            "363/363 [==============================] - 1s 2ms/step - loss: 0.3773 - mae: 0.4371 - val_loss: 0.4348 - val_mae: 0.4779\n",
            "Epoch 38/200\n",
            "363/363 [==============================] - 1s 2ms/step - loss: 0.3758 - mae: 0.4367 - val_loss: 0.4329 - val_mae: 0.4747\n",
            "Epoch 39/200\n",
            "363/363 [==============================] - 1s 2ms/step - loss: 0.3742 - mae: 0.4355 - val_loss: 0.4319 - val_mae: 0.4724\n",
            "Epoch 40/200\n",
            "363/363 [==============================] - 1s 3ms/step - loss: 0.3728 - mae: 0.4348 - val_loss: 0.4301 - val_mae: 0.4698\n",
            "Epoch 41/200\n",
            "363/363 [==============================] - 1s 3ms/step - loss: 0.3718 - mae: 0.4336 - val_loss: 0.4301 - val_mae: 0.4719\n",
            "Epoch 42/200\n",
            "363/363 [==============================] - 1s 2ms/step - loss: 0.3707 - mae: 0.4334 - val_loss: 0.4308 - val_mae: 0.4727\n",
            "Epoch 43/200\n",
            "363/363 [==============================] - 1s 2ms/step - loss: 0.3692 - mae: 0.4318 - val_loss: 0.4303 - val_mae: 0.4711\n",
            "Epoch 44/200\n",
            "363/363 [==============================] - 1s 2ms/step - loss: 0.3678 - mae: 0.4309 - val_loss: 0.4298 - val_mae: 0.4749\n",
            "Epoch 45/200\n",
            "363/363 [==============================] - 1s 2ms/step - loss: 0.3671 - mae: 0.4310 - val_loss: 0.4284 - val_mae: 0.4692\n",
            "Epoch 46/200\n",
            "363/363 [==============================] - 1s 2ms/step - loss: 0.3656 - mae: 0.4290 - val_loss: 0.4275 - val_mae: 0.4687\n",
            "Epoch 47/200\n",
            "363/363 [==============================] - 1s 2ms/step - loss: 0.3645 - mae: 0.4290 - val_loss: 0.4272 - val_mae: 0.4674\n",
            "Epoch 48/200\n",
            "363/363 [==============================] - 1s 2ms/step - loss: 0.3634 - mae: 0.4279 - val_loss: 0.4264 - val_mae: 0.4704\n",
            "Epoch 49/200\n",
            "363/363 [==============================] - 1s 2ms/step - loss: 0.3627 - mae: 0.4275 - val_loss: 0.4255 - val_mae: 0.4693\n",
            "Epoch 50/200\n",
            "363/363 [==============================] - 1s 2ms/step - loss: 0.3613 - mae: 0.4265 - val_loss: 0.4269 - val_mae: 0.4685\n",
            "Epoch 51/200\n",
            "363/363 [==============================] - 1s 2ms/step - loss: 0.3602 - mae: 0.4253 - val_loss: 0.4260 - val_mae: 0.4714\n",
            "Epoch 52/200\n",
            "363/363 [==============================] - 1s 2ms/step - loss: 0.3595 - mae: 0.4256 - val_loss: 0.4248 - val_mae: 0.4651\n",
            "Epoch 53/200\n",
            "363/363 [==============================] - 1s 2ms/step - loss: 0.3585 - mae: 0.4244 - val_loss: 0.4256 - val_mae: 0.4679\n",
            "Epoch 54/200\n",
            "363/363 [==============================] - 1s 2ms/step - loss: 0.3575 - mae: 0.4237 - val_loss: 0.4233 - val_mae: 0.4683\n",
            "Epoch 55/200\n",
            "363/363 [==============================] - 1s 3ms/step - loss: 0.3567 - mae: 0.4238 - val_loss: 0.4231 - val_mae: 0.4655\n",
            "Epoch 56/200\n",
            "363/363 [==============================] - 1s 3ms/step - loss: 0.3557 - mae: 0.4226 - val_loss: 0.4233 - val_mae: 0.4666\n",
            "Epoch 57/200\n",
            "363/363 [==============================] - 1s 3ms/step - loss: 0.3550 - mae: 0.4224 - val_loss: 0.4226 - val_mae: 0.4651\n",
            "Epoch 58/200\n",
            "363/363 [==============================] - 1s 2ms/step - loss: 0.3541 - mae: 0.4215 - val_loss: 0.4233 - val_mae: 0.4625\n",
            "Epoch 59/200\n",
            "363/363 [==============================] - 1s 2ms/step - loss: 0.3536 - mae: 0.4211 - val_loss: 0.4223 - val_mae: 0.4656\n",
            "Epoch 60/200\n",
            "363/363 [==============================] - 1s 2ms/step - loss: 0.3529 - mae: 0.4205 - val_loss: 0.4222 - val_mae: 0.4670\n",
            "Epoch 61/200\n",
            "363/363 [==============================] - 1s 2ms/step - loss: 0.3516 - mae: 0.4196 - val_loss: 0.4240 - val_mae: 0.4725\n",
            "Epoch 62/200\n",
            "363/363 [==============================] - 1s 2ms/step - loss: 0.3514 - mae: 0.4201 - val_loss: 0.4197 - val_mae: 0.4626\n",
            "Epoch 63/200\n",
            "363/363 [==============================] - 1s 2ms/step - loss: 0.3501 - mae: 0.4185 - val_loss: 0.4236 - val_mae: 0.4695\n",
            "Epoch 64/200\n",
            "363/363 [==============================] - 1s 2ms/step - loss: 0.3499 - mae: 0.4188 - val_loss: 0.4195 - val_mae: 0.4636\n",
            "Epoch 65/200\n",
            "363/363 [==============================] - 1s 2ms/step - loss: 0.3492 - mae: 0.4184 - val_loss: 0.4188 - val_mae: 0.4619\n",
            "Epoch 66/200\n",
            "363/363 [==============================] - 1s 2ms/step - loss: 0.3486 - mae: 0.4176 - val_loss: 0.4199 - val_mae: 0.4633\n",
            "Epoch 67/200\n",
            "363/363 [==============================] - 1s 2ms/step - loss: 0.3478 - mae: 0.4171 - val_loss: 0.4176 - val_mae: 0.4627\n",
            "Epoch 68/200\n",
            "363/363 [==============================] - 1s 2ms/step - loss: 0.3472 - mae: 0.4167 - val_loss: 0.4183 - val_mae: 0.4614\n",
            "Epoch 69/200\n",
            "363/363 [==============================] - 1s 2ms/step - loss: 0.3467 - mae: 0.4157 - val_loss: 0.4181 - val_mae: 0.4630\n",
            "Epoch 70/200\n",
            "363/363 [==============================] - 1s 2ms/step - loss: 0.3459 - mae: 0.4161 - val_loss: 0.4172 - val_mae: 0.4583\n",
            "Epoch 71/200\n",
            "363/363 [==============================] - 1s 3ms/step - loss: 0.3457 - mae: 0.4153 - val_loss: 0.4184 - val_mae: 0.4632\n",
            "Epoch 72/200\n",
            "363/363 [==============================] - 1s 4ms/step - loss: 0.3450 - mae: 0.4151 - val_loss: 0.4176 - val_mae: 0.4608\n",
            "Epoch 73/200\n",
            "363/363 [==============================] - 1s 4ms/step - loss: 0.3439 - mae: 0.4145 - val_loss: 0.4167 - val_mae: 0.4571\n",
            "Epoch 74/200\n",
            "363/363 [==============================] - 1s 3ms/step - loss: 0.3441 - mae: 0.4143 - val_loss: 0.4160 - val_mae: 0.4598\n",
            "Epoch 75/200\n",
            "363/363 [==============================] - 1s 3ms/step - loss: 0.3433 - mae: 0.4137 - val_loss: 0.4199 - val_mae: 0.4643\n",
            "Epoch 76/200\n",
            "363/363 [==============================] - 1s 2ms/step - loss: 0.3428 - mae: 0.4135 - val_loss: 0.4159 - val_mae: 0.4571\n",
            "Epoch 77/200\n",
            "363/363 [==============================] - 1s 2ms/step - loss: 0.3421 - mae: 0.4125 - val_loss: 0.4169 - val_mae: 0.4624\n",
            "Epoch 78/200\n",
            "363/363 [==============================] - 1s 2ms/step - loss: 0.3419 - mae: 0.4131 - val_loss: 0.4161 - val_mae: 0.4597\n",
            "Epoch 79/200\n",
            "363/363 [==============================] - 1s 2ms/step - loss: 0.3413 - mae: 0.4122 - val_loss: 0.4167 - val_mae: 0.4588\n",
            "Epoch 80/200\n",
            "363/363 [==============================] - 1s 2ms/step - loss: 0.3408 - mae: 0.4121 - val_loss: 0.4147 - val_mae: 0.4572\n",
            "Epoch 81/200\n",
            "363/363 [==============================] - 1s 2ms/step - loss: 0.3405 - mae: 0.4121 - val_loss: 0.4138 - val_mae: 0.4559\n",
            "Epoch 82/200\n",
            "363/363 [==============================] - 1s 2ms/step - loss: 0.3400 - mae: 0.4116 - val_loss: 0.4144 - val_mae: 0.4572\n",
            "Epoch 83/200\n",
            "363/363 [==============================] - 1s 2ms/step - loss: 0.3396 - mae: 0.4113 - val_loss: 0.4143 - val_mae: 0.4576\n",
            "Epoch 84/200\n",
            "363/363 [==============================] - 1s 2ms/step - loss: 0.3390 - mae: 0.4106 - val_loss: 0.4143 - val_mae: 0.4597\n",
            "Epoch 85/200\n",
            "363/363 [==============================] - 1s 2ms/step - loss: 0.3386 - mae: 0.4108 - val_loss: 0.4150 - val_mae: 0.4536\n",
            "Epoch 86/200\n",
            "363/363 [==============================] - 1s 2ms/step - loss: 0.3384 - mae: 0.4100 - val_loss: 0.4140 - val_mae: 0.4547\n",
            "Epoch 87/200\n",
            "363/363 [==============================] - 1s 2ms/step - loss: 0.3379 - mae: 0.4098 - val_loss: 0.4144 - val_mae: 0.4581\n",
            "Epoch 88/200\n",
            "363/363 [==============================] - 1s 2ms/step - loss: 0.3374 - mae: 0.4099 - val_loss: 0.4129 - val_mae: 0.4546\n",
            "Epoch 89/200\n",
            "363/363 [==============================] - 1s 3ms/step - loss: 0.3370 - mae: 0.4094 - val_loss: 0.4143 - val_mae: 0.4570\n",
            "Epoch 90/200\n",
            "363/363 [==============================] - 1s 3ms/step - loss: 0.3367 - mae: 0.4092 - val_loss: 0.4143 - val_mae: 0.4586\n",
            "Epoch 91/200\n",
            "363/363 [==============================] - 1s 2ms/step - loss: 0.3362 - mae: 0.4090 - val_loss: 0.4146 - val_mae: 0.4550\n",
            "Epoch 92/200\n",
            "363/363 [==============================] - 1s 2ms/step - loss: 0.3358 - mae: 0.4086 - val_loss: 0.4139 - val_mae: 0.4574\n",
            "Epoch 93/200\n",
            "363/363 [==============================] - 1s 2ms/step - loss: 0.3356 - mae: 0.4083 - val_loss: 0.4138 - val_mae: 0.4571\n",
            "Epoch 94/200\n",
            "363/363 [==============================] - 1s 2ms/step - loss: 0.3352 - mae: 0.4077 - val_loss: 0.4135 - val_mae: 0.4591\n",
            "Epoch 95/200\n",
            "363/363 [==============================] - 1s 2ms/step - loss: 0.3346 - mae: 0.4078 - val_loss: 0.4143 - val_mae: 0.4558\n",
            "Epoch 96/200\n",
            "363/363 [==============================] - 1s 2ms/step - loss: 0.3341 - mae: 0.4073 - val_loss: 0.4138 - val_mae: 0.4579\n",
            "Epoch 97/200\n",
            "363/363 [==============================] - 1s 2ms/step - loss: 0.3341 - mae: 0.4071 - val_loss: 0.4132 - val_mae: 0.4546\n",
            "Epoch 98/200\n",
            "363/363 [==============================] - 1s 2ms/step - loss: 0.3338 - mae: 0.4067 - val_loss: 0.4127 - val_mae: 0.4562\n",
            "Epoch 99/200\n",
            "363/363 [==============================] - 1s 2ms/step - loss: 0.3333 - mae: 0.4066 - val_loss: 0.4128 - val_mae: 0.4537\n",
            "Epoch 100/200\n",
            "363/363 [==============================] - 1s 2ms/step - loss: 0.3328 - mae: 0.4062 - val_loss: 0.4135 - val_mae: 0.4560\n",
            "Epoch 101/200\n",
            "363/363 [==============================] - 1s 2ms/step - loss: 0.3324 - mae: 0.4056 - val_loss: 0.4123 - val_mae: 0.4551\n",
            "Epoch 102/200\n",
            "363/363 [==============================] - 1s 2ms/step - loss: 0.3324 - mae: 0.4060 - val_loss: 0.4114 - val_mae: 0.4517\n",
            "Epoch 103/200\n",
            "363/363 [==============================] - 1s 2ms/step - loss: 0.3317 - mae: 0.4052 - val_loss: 0.4142 - val_mae: 0.4540\n",
            "Epoch 104/200\n",
            "363/363 [==============================] - 1s 2ms/step - loss: 0.3312 - mae: 0.4049 - val_loss: 0.4118 - val_mae: 0.4545\n",
            "Epoch 105/200\n",
            "363/363 [==============================] - 1s 3ms/step - loss: 0.3311 - mae: 0.4047 - val_loss: 0.4123 - val_mae: 0.4567\n",
            "Epoch 106/200\n",
            "363/363 [==============================] - 1s 3ms/step - loss: 0.3306 - mae: 0.4048 - val_loss: 0.4132 - val_mae: 0.4512\n",
            "Epoch 107/200\n",
            "363/363 [==============================] - 1s 3ms/step - loss: 0.3304 - mae: 0.4040 - val_loss: 0.4120 - val_mae: 0.4555\n",
            "Epoch 108/200\n",
            "363/363 [==============================] - 1s 2ms/step - loss: 0.3297 - mae: 0.4041 - val_loss: 0.4124 - val_mae: 0.4559\n",
            "Epoch 109/200\n",
            "363/363 [==============================] - 1s 2ms/step - loss: 0.3295 - mae: 0.4036 - val_loss: 0.4094 - val_mae: 0.4539\n",
            "Epoch 110/200\n",
            "363/363 [==============================] - 1s 2ms/step - loss: 0.3295 - mae: 0.4039 - val_loss: 0.4110 - val_mae: 0.4543\n",
            "Epoch 111/200\n",
            "363/363 [==============================] - 1s 2ms/step - loss: 0.3289 - mae: 0.4032 - val_loss: 0.4085 - val_mae: 0.4511\n",
            "Epoch 112/200\n",
            "363/363 [==============================] - 1s 2ms/step - loss: 0.3287 - mae: 0.4029 - val_loss: 0.4099 - val_mae: 0.4534\n",
            "Epoch 113/200\n",
            "363/363 [==============================] - 1s 2ms/step - loss: 0.3282 - mae: 0.4029 - val_loss: 0.4103 - val_mae: 0.4497\n",
            "Epoch 114/200\n",
            "363/363 [==============================] - 1s 2ms/step - loss: 0.3281 - mae: 0.4025 - val_loss: 0.4094 - val_mae: 0.4514\n",
            "Epoch 115/200\n",
            "363/363 [==============================] - 1s 2ms/step - loss: 0.3272 - mae: 0.4018 - val_loss: 0.4113 - val_mae: 0.4567\n",
            "Epoch 116/200\n",
            "363/363 [==============================] - 1s 2ms/step - loss: 0.3274 - mae: 0.4021 - val_loss: 0.4106 - val_mae: 0.4541\n",
            "Epoch 117/200\n",
            "363/363 [==============================] - 1s 2ms/step - loss: 0.3269 - mae: 0.4019 - val_loss: 0.4109 - val_mae: 0.4527\n",
            "Epoch 118/200\n",
            "363/363 [==============================] - 1s 2ms/step - loss: 0.3266 - mae: 0.4015 - val_loss: 0.4099 - val_mae: 0.4507\n",
            "Epoch 119/200\n",
            "363/363 [==============================] - 1s 2ms/step - loss: 0.3260 - mae: 0.4009 - val_loss: 0.4111 - val_mae: 0.4528\n",
            "Epoch 120/200\n",
            "363/363 [==============================] - 1s 2ms/step - loss: 0.3258 - mae: 0.4010 - val_loss: 0.4108 - val_mae: 0.4538\n",
            "Epoch 121/200\n",
            "363/363 [==============================] - 1s 3ms/step - loss: 0.3255 - mae: 0.4009 - val_loss: 0.4092 - val_mae: 0.4500\n"
          ]
        }
      ]
    },
    {
      "cell_type": "code",
      "source": [
        "model=keras.models.load_model(\"early_stop_model.h5\")\n",
        "maetest=model.evaluate(xtest,ytest)"
      ],
      "metadata": {
        "colab": {
          "base_uri": "https://localhost:8080/"
        },
        "id": "fEl5E68Bh50U",
        "outputId": "4581f0d2-9d45-4c39-a76b-0038417485a1"
      },
      "execution_count": null,
      "outputs": [
        {
          "output_type": "stream",
          "name": "stdout",
          "text": [
            "162/162 [==============================] - 1s 1ms/step - loss: 0.3716 - mae: 0.4351\n"
          ]
        }
      ]
    },
    {
      "cell_type": "markdown",
      "source": [
        "#Different Way to save Early Model"
      ],
      "metadata": {
        "id": "C5X0Kc66jtYo"
      }
    },
    {
      "cell_type": "code",
      "source": [
        "del model\n",
        "keras.backend.clear_session()"
      ],
      "metadata": {
        "id": "peAKs_u_i8Lt"
      },
      "execution_count": null,
      "outputs": []
    },
    {
      "cell_type": "code",
      "source": [
        "model=keras.models.Sequential([\n",
        "    keras.layers.Dense(30,activation=\"relu\",input_shape=[8]),\n",
        "    keras.layers.Dense(30,activation=\"relu\"),\n",
        "    keras.layers.Dense(1)\n",
        "])"
      ],
      "metadata": {
        "id": "BNaWJH0OjP9e"
      },
      "execution_count": null,
      "outputs": []
    },
    {
      "cell_type": "code",
      "source": [
        "model.compile(loss=\"mean_squared_error\",optimizer=keras.optimizers.SGD(learning_rate=1e-3),metrics=[\"mae\"])\n",
        "earlystop=keras.callbacks.EarlyStopping(patience=10,restore_best_weights=True)\n",
        "history=model.fit(xtrain,ytrain,epochs=200,validation_data=(xvalid,yvalid),callbacks=[earlystop])"
      ],
      "metadata": {
        "colab": {
          "base_uri": "https://localhost:8080/"
        },
        "id": "I6q7xBiBjSx6",
        "outputId": "fc891c63-851b-4af9-ed9d-6201dbeb9d1f"
      },
      "execution_count": null,
      "outputs": [
        {
          "output_type": "stream",
          "name": "stdout",
          "text": [
            "Epoch 1/200\n",
            "363/363 [==============================] - 1s 2ms/step - loss: 2.0021 - mae: 0.9968 - val_loss: 1.1366 - val_mae: 0.7808\n",
            "Epoch 2/200\n",
            "363/363 [==============================] - 1s 2ms/step - loss: 1.0096 - mae: 0.7498 - val_loss: 0.8839 - val_mae: 0.7155\n",
            "Epoch 3/200\n",
            "363/363 [==============================] - 1s 2ms/step - loss: 0.8254 - mae: 0.6868 - val_loss: 0.7524 - val_mae: 0.6553\n",
            "Epoch 4/200\n",
            "363/363 [==============================] - 1s 3ms/step - loss: 0.7163 - mae: 0.6352 - val_loss: 0.6782 - val_mae: 0.6247\n",
            "Epoch 5/200\n",
            "363/363 [==============================] - 1s 3ms/step - loss: 0.6433 - mae: 0.5976 - val_loss: 0.6187 - val_mae: 0.5908\n",
            "Epoch 6/200\n",
            "363/363 [==============================] - 1s 2ms/step - loss: 0.5924 - mae: 0.5695 - val_loss: 0.5828 - val_mae: 0.5716\n",
            "Epoch 7/200\n",
            "363/363 [==============================] - 1s 2ms/step - loss: 0.5570 - mae: 0.5482 - val_loss: 0.5545 - val_mae: 0.5555\n",
            "Epoch 8/200\n",
            "363/363 [==============================] - 1s 2ms/step - loss: 0.5300 - mae: 0.5320 - val_loss: 0.5326 - val_mae: 0.5417\n",
            "Epoch 9/200\n",
            "363/363 [==============================] - 1s 2ms/step - loss: 0.5086 - mae: 0.5190 - val_loss: 0.5167 - val_mae: 0.5322\n",
            "Epoch 10/200\n",
            "363/363 [==============================] - 1s 2ms/step - loss: 0.4914 - mae: 0.5086 - val_loss: 0.5018 - val_mae: 0.5216\n",
            "Epoch 11/200\n",
            "363/363 [==============================] - 1s 2ms/step - loss: 0.4774 - mae: 0.4998 - val_loss: 0.4952 - val_mae: 0.5222\n",
            "Epoch 12/200\n",
            "363/363 [==============================] - 1s 3ms/step - loss: 0.4656 - mae: 0.4932 - val_loss: 0.4837 - val_mae: 0.5124\n",
            "Epoch 13/200\n",
            "363/363 [==============================] - 1s 3ms/step - loss: 0.4557 - mae: 0.4871 - val_loss: 0.4803 - val_mae: 0.5140\n",
            "Epoch 14/200\n",
            "363/363 [==============================] - 1s 3ms/step - loss: 0.4472 - mae: 0.4820 - val_loss: 0.4743 - val_mae: 0.5106\n",
            "Epoch 15/200\n",
            "363/363 [==============================] - 1s 2ms/step - loss: 0.4398 - mae: 0.4779 - val_loss: 0.4673 - val_mae: 0.5037\n",
            "Epoch 16/200\n",
            "363/363 [==============================] - 1s 3ms/step - loss: 0.4334 - mae: 0.4743 - val_loss: 0.4641 - val_mae: 0.5029\n",
            "Epoch 17/200\n",
            "363/363 [==============================] - 1s 3ms/step - loss: 0.4277 - mae: 0.4707 - val_loss: 0.4587 - val_mae: 0.4980\n",
            "Epoch 18/200\n",
            "363/363 [==============================] - 1s 3ms/step - loss: 0.4226 - mae: 0.4675 - val_loss: 0.4548 - val_mae: 0.4947\n",
            "Epoch 19/200\n",
            "363/363 [==============================] - 1s 3ms/step - loss: 0.4177 - mae: 0.4644 - val_loss: 0.4528 - val_mae: 0.4937\n",
            "Epoch 20/200\n",
            "363/363 [==============================] - 1s 2ms/step - loss: 0.4137 - mae: 0.4619 - val_loss: 0.4527 - val_mae: 0.4971\n",
            "Epoch 21/200\n",
            "363/363 [==============================] - 1s 2ms/step - loss: 0.4097 - mae: 0.4597 - val_loss: 0.4523 - val_mae: 0.4981\n",
            "Epoch 22/200\n",
            "363/363 [==============================] - 1s 2ms/step - loss: 0.4063 - mae: 0.4580 - val_loss: 0.4493 - val_mae: 0.4953\n",
            "Epoch 23/200\n",
            "363/363 [==============================] - 1s 2ms/step - loss: 0.4030 - mae: 0.4566 - val_loss: 0.4417 - val_mae: 0.4822\n",
            "Epoch 24/200\n",
            "363/363 [==============================] - 1s 3ms/step - loss: 0.4000 - mae: 0.4537 - val_loss: 0.4428 - val_mae: 0.4872\n",
            "Epoch 25/200\n",
            "363/363 [==============================] - 1s 3ms/step - loss: 0.3971 - mae: 0.4525 - val_loss: 0.4399 - val_mae: 0.4848\n",
            "Epoch 26/200\n",
            "363/363 [==============================] - 1s 3ms/step - loss: 0.3944 - mae: 0.4508 - val_loss: 0.4397 - val_mae: 0.4860\n",
            "Epoch 27/200\n",
            "363/363 [==============================] - 1s 3ms/step - loss: 0.3922 - mae: 0.4498 - val_loss: 0.4375 - val_mae: 0.4834\n",
            "Epoch 28/200\n",
            "363/363 [==============================] - 1s 3ms/step - loss: 0.3897 - mae: 0.4480 - val_loss: 0.4384 - val_mae: 0.4864\n",
            "Epoch 29/200\n",
            "363/363 [==============================] - 1s 2ms/step - loss: 0.3876 - mae: 0.4470 - val_loss: 0.4364 - val_mae: 0.4845\n",
            "Epoch 30/200\n",
            "363/363 [==============================] - 1s 2ms/step - loss: 0.3854 - mae: 0.4458 - val_loss: 0.4347 - val_mae: 0.4804\n",
            "Epoch 31/200\n",
            "363/363 [==============================] - 1s 2ms/step - loss: 0.3834 - mae: 0.4444 - val_loss: 0.4331 - val_mae: 0.4794\n",
            "Epoch 32/200\n",
            "363/363 [==============================] - 1s 3ms/step - loss: 0.3815 - mae: 0.4431 - val_loss: 0.4369 - val_mae: 0.4870\n",
            "Epoch 33/200\n",
            "363/363 [==============================] - 1s 2ms/step - loss: 0.3802 - mae: 0.4425 - val_loss: 0.4326 - val_mae: 0.4813\n",
            "Epoch 34/200\n",
            "363/363 [==============================] - 1s 2ms/step - loss: 0.3783 - mae: 0.4413 - val_loss: 0.4309 - val_mae: 0.4787\n",
            "Epoch 35/200\n",
            "363/363 [==============================] - 1s 2ms/step - loss: 0.3768 - mae: 0.4403 - val_loss: 0.4329 - val_mae: 0.4827\n",
            "Epoch 36/200\n",
            "363/363 [==============================] - 1s 2ms/step - loss: 0.3754 - mae: 0.4396 - val_loss: 0.4289 - val_mae: 0.4766\n",
            "Epoch 37/200\n",
            "363/363 [==============================] - 1s 3ms/step - loss: 0.3739 - mae: 0.4382 - val_loss: 0.4293 - val_mae: 0.4779\n",
            "Epoch 38/200\n",
            "363/363 [==============================] - 1s 2ms/step - loss: 0.3726 - mae: 0.4377 - val_loss: 0.4277 - val_mae: 0.4756\n",
            "Epoch 39/200\n",
            "363/363 [==============================] - 1s 2ms/step - loss: 0.3712 - mae: 0.4370 - val_loss: 0.4261 - val_mae: 0.4736\n",
            "Epoch 40/200\n",
            "363/363 [==============================] - 1s 4ms/step - loss: 0.3699 - mae: 0.4361 - val_loss: 0.4241 - val_mae: 0.4696\n",
            "Epoch 41/200\n",
            "363/363 [==============================] - 1s 3ms/step - loss: 0.3690 - mae: 0.4350 - val_loss: 0.4245 - val_mae: 0.4717\n",
            "Epoch 42/200\n",
            "363/363 [==============================] - 1s 3ms/step - loss: 0.3679 - mae: 0.4349 - val_loss: 0.4239 - val_mae: 0.4702\n",
            "Epoch 43/200\n",
            "363/363 [==============================] - 3s 7ms/step - loss: 0.3666 - mae: 0.4333 - val_loss: 0.4240 - val_mae: 0.4709\n",
            "Epoch 44/200\n",
            "363/363 [==============================] - 2s 4ms/step - loss: 0.3657 - mae: 0.4326 - val_loss: 0.4258 - val_mae: 0.4767\n",
            "Epoch 45/200\n",
            "363/363 [==============================] - 1s 2ms/step - loss: 0.3649 - mae: 0.4328 - val_loss: 0.4218 - val_mae: 0.4686\n",
            "Epoch 46/200\n",
            "363/363 [==============================] - 1s 2ms/step - loss: 0.3637 - mae: 0.4311 - val_loss: 0.4218 - val_mae: 0.4684\n",
            "Epoch 47/200\n",
            "363/363 [==============================] - 1s 2ms/step - loss: 0.3629 - mae: 0.4311 - val_loss: 0.4204 - val_mae: 0.4656\n",
            "Epoch 48/200\n",
            "363/363 [==============================] - 1s 2ms/step - loss: 0.3620 - mae: 0.4300 - val_loss: 0.4213 - val_mae: 0.4708\n",
            "Epoch 49/200\n",
            "363/363 [==============================] - 1s 2ms/step - loss: 0.3612 - mae: 0.4296 - val_loss: 0.4205 - val_mae: 0.4696\n",
            "Epoch 50/200\n",
            "363/363 [==============================] - 1s 2ms/step - loss: 0.3603 - mae: 0.4292 - val_loss: 0.4198 - val_mae: 0.4666\n",
            "Epoch 51/200\n",
            "363/363 [==============================] - 1s 2ms/step - loss: 0.3594 - mae: 0.4279 - val_loss: 0.4197 - val_mae: 0.4688\n",
            "Epoch 52/200\n",
            "363/363 [==============================] - 1s 2ms/step - loss: 0.3588 - mae: 0.4282 - val_loss: 0.4185 - val_mae: 0.4638\n",
            "Epoch 53/200\n",
            "363/363 [==============================] - 1s 3ms/step - loss: 0.3579 - mae: 0.4271 - val_loss: 0.4196 - val_mae: 0.4666\n",
            "Epoch 54/200\n",
            "363/363 [==============================] - 1s 3ms/step - loss: 0.3570 - mae: 0.4262 - val_loss: 0.4181 - val_mae: 0.4674\n",
            "Epoch 55/200\n",
            "363/363 [==============================] - 1s 2ms/step - loss: 0.3564 - mae: 0.4263 - val_loss: 0.4169 - val_mae: 0.4630\n",
            "Epoch 56/200\n",
            "363/363 [==============================] - 1s 2ms/step - loss: 0.3556 - mae: 0.4253 - val_loss: 0.4175 - val_mae: 0.4658\n",
            "Epoch 57/200\n",
            "363/363 [==============================] - 1s 2ms/step - loss: 0.3549 - mae: 0.4251 - val_loss: 0.4160 - val_mae: 0.4630\n",
            "Epoch 58/200\n",
            "363/363 [==============================] - 1s 2ms/step - loss: 0.3541 - mae: 0.4241 - val_loss: 0.4171 - val_mae: 0.4630\n",
            "Epoch 59/200\n",
            "363/363 [==============================] - 1s 2ms/step - loss: 0.3536 - mae: 0.4239 - val_loss: 0.4163 - val_mae: 0.4643\n",
            "Epoch 60/200\n",
            "363/363 [==============================] - 1s 2ms/step - loss: 0.3529 - mae: 0.4231 - val_loss: 0.4160 - val_mae: 0.4652\n",
            "Epoch 61/200\n",
            "363/363 [==============================] - 1s 2ms/step - loss: 0.3519 - mae: 0.4224 - val_loss: 0.4177 - val_mae: 0.4696\n",
            "Epoch 62/200\n",
            "363/363 [==============================] - 1s 2ms/step - loss: 0.3515 - mae: 0.4224 - val_loss: 0.4132 - val_mae: 0.4611\n",
            "Epoch 63/200\n",
            "363/363 [==============================] - 1s 2ms/step - loss: 0.3504 - mae: 0.4209 - val_loss: 0.4177 - val_mae: 0.4690\n",
            "Epoch 64/200\n",
            "363/363 [==============================] - 1s 2ms/step - loss: 0.3503 - mae: 0.4213 - val_loss: 0.4128 - val_mae: 0.4611\n",
            "Epoch 65/200\n",
            "363/363 [==============================] - 1s 2ms/step - loss: 0.3493 - mae: 0.4206 - val_loss: 0.4121 - val_mae: 0.4587\n",
            "Epoch 66/200\n",
            "363/363 [==============================] - 1s 2ms/step - loss: 0.3488 - mae: 0.4198 - val_loss: 0.4132 - val_mae: 0.4603\n",
            "Epoch 67/200\n",
            "363/363 [==============================] - 1s 2ms/step - loss: 0.3478 - mae: 0.4190 - val_loss: 0.4124 - val_mae: 0.4621\n",
            "Epoch 68/200\n",
            "363/363 [==============================] - 1s 2ms/step - loss: 0.3474 - mae: 0.4187 - val_loss: 0.4118 - val_mae: 0.4596\n",
            "Epoch 69/200\n",
            "363/363 [==============================] - 1s 3ms/step - loss: 0.3467 - mae: 0.4178 - val_loss: 0.4122 - val_mae: 0.4624\n",
            "Epoch 70/200\n",
            "363/363 [==============================] - 1s 3ms/step - loss: 0.3458 - mae: 0.4175 - val_loss: 0.4101 - val_mae: 0.4559\n",
            "Epoch 71/200\n",
            "363/363 [==============================] - 1s 4ms/step - loss: 0.3454 - mae: 0.4170 - val_loss: 0.4115 - val_mae: 0.4603\n",
            "Epoch 72/200\n",
            "363/363 [==============================] - 1s 3ms/step - loss: 0.3446 - mae: 0.4165 - val_loss: 0.4099 - val_mae: 0.4577\n",
            "Epoch 73/200\n",
            "363/363 [==============================] - 1s 3ms/step - loss: 0.3439 - mae: 0.4160 - val_loss: 0.4091 - val_mae: 0.4550\n",
            "Epoch 74/200\n",
            "363/363 [==============================] - 1s 2ms/step - loss: 0.3436 - mae: 0.4155 - val_loss: 0.4097 - val_mae: 0.4582\n",
            "Epoch 75/200\n",
            "363/363 [==============================] - 1s 2ms/step - loss: 0.3429 - mae: 0.4148 - val_loss: 0.4117 - val_mae: 0.4605\n",
            "Epoch 76/200\n",
            "363/363 [==============================] - 1s 2ms/step - loss: 0.3425 - mae: 0.4145 - val_loss: 0.4083 - val_mae: 0.4550\n",
            "Epoch 77/200\n",
            "363/363 [==============================] - 1s 2ms/step - loss: 0.3415 - mae: 0.4137 - val_loss: 0.4105 - val_mae: 0.4612\n",
            "Epoch 78/200\n",
            "363/363 [==============================] - 1s 2ms/step - loss: 0.3413 - mae: 0.4140 - val_loss: 0.4095 - val_mae: 0.4578\n",
            "Epoch 79/200\n",
            "363/363 [==============================] - 1s 2ms/step - loss: 0.3407 - mae: 0.4131 - val_loss: 0.4100 - val_mae: 0.4577\n",
            "Epoch 80/200\n",
            "363/363 [==============================] - 1s 2ms/step - loss: 0.3402 - mae: 0.4130 - val_loss: 0.4074 - val_mae: 0.4544\n",
            "Epoch 81/200\n",
            "363/363 [==============================] - 1s 2ms/step - loss: 0.3395 - mae: 0.4124 - val_loss: 0.4063 - val_mae: 0.4529\n",
            "Epoch 82/200\n",
            "363/363 [==============================] - 1s 2ms/step - loss: 0.3390 - mae: 0.4121 - val_loss: 0.4068 - val_mae: 0.4533\n",
            "Epoch 83/200\n",
            "363/363 [==============================] - 1s 2ms/step - loss: 0.3385 - mae: 0.4113 - val_loss: 0.4064 - val_mae: 0.4536\n",
            "Epoch 84/200\n",
            "363/363 [==============================] - 1s 2ms/step - loss: 0.3379 - mae: 0.4108 - val_loss: 0.4071 - val_mae: 0.4570\n",
            "Epoch 85/200\n",
            "363/363 [==============================] - 1s 3ms/step - loss: 0.3375 - mae: 0.4107 - val_loss: 0.4074 - val_mae: 0.4500\n",
            "Epoch 86/200\n",
            "363/363 [==============================] - 1s 3ms/step - loss: 0.3372 - mae: 0.4101 - val_loss: 0.4057 - val_mae: 0.4512\n",
            "Epoch 87/200\n",
            "363/363 [==============================] - 1s 3ms/step - loss: 0.3366 - mae: 0.4098 - val_loss: 0.4064 - val_mae: 0.4552\n",
            "Epoch 88/200\n",
            "363/363 [==============================] - 1s 2ms/step - loss: 0.3358 - mae: 0.4095 - val_loss: 0.4042 - val_mae: 0.4504\n",
            "Epoch 89/200\n",
            "363/363 [==============================] - 1s 2ms/step - loss: 0.3354 - mae: 0.4090 - val_loss: 0.4059 - val_mae: 0.4529\n",
            "Epoch 90/200\n",
            "363/363 [==============================] - 1s 2ms/step - loss: 0.3353 - mae: 0.4087 - val_loss: 0.4061 - val_mae: 0.4549\n",
            "Epoch 91/200\n",
            "363/363 [==============================] - 1s 2ms/step - loss: 0.3346 - mae: 0.4083 - val_loss: 0.4057 - val_mae: 0.4506\n",
            "Epoch 92/200\n",
            "363/363 [==============================] - 1s 2ms/step - loss: 0.3341 - mae: 0.4078 - val_loss: 0.4047 - val_mae: 0.4528\n",
            "Epoch 93/200\n",
            "363/363 [==============================] - 1s 2ms/step - loss: 0.3337 - mae: 0.4074 - val_loss: 0.4050 - val_mae: 0.4530\n",
            "Epoch 94/200\n",
            "363/363 [==============================] - 1s 2ms/step - loss: 0.3333 - mae: 0.4068 - val_loss: 0.4047 - val_mae: 0.4548\n",
            "Epoch 95/200\n",
            "363/363 [==============================] - 1s 2ms/step - loss: 0.3327 - mae: 0.4072 - val_loss: 0.4050 - val_mae: 0.4500\n",
            "Epoch 96/200\n",
            "363/363 [==============================] - 1s 2ms/step - loss: 0.3322 - mae: 0.4064 - val_loss: 0.4049 - val_mae: 0.4544\n",
            "Epoch 97/200\n",
            "363/363 [==============================] - 1s 2ms/step - loss: 0.3322 - mae: 0.4061 - val_loss: 0.4043 - val_mae: 0.4509\n",
            "Epoch 98/200\n",
            "363/363 [==============================] - 1s 2ms/step - loss: 0.3318 - mae: 0.4057 - val_loss: 0.4029 - val_mae: 0.4521\n",
            "Epoch 99/200\n",
            "363/363 [==============================] - 1s 2ms/step - loss: 0.3313 - mae: 0.4055 - val_loss: 0.4027 - val_mae: 0.4486\n",
            "Epoch 100/200\n",
            "363/363 [==============================] - 1s 2ms/step - loss: 0.3307 - mae: 0.4051 - val_loss: 0.4035 - val_mae: 0.4516\n",
            "Epoch 101/200\n",
            "363/363 [==============================] - 1s 3ms/step - loss: 0.3305 - mae: 0.4046 - val_loss: 0.4029 - val_mae: 0.4513\n",
            "Epoch 102/200\n",
            "363/363 [==============================] - 1s 3ms/step - loss: 0.3300 - mae: 0.4047 - val_loss: 0.4012 - val_mae: 0.4465\n",
            "Epoch 103/200\n",
            "363/363 [==============================] - 1s 3ms/step - loss: 0.3297 - mae: 0.4038 - val_loss: 0.4025 - val_mae: 0.4471\n",
            "Epoch 104/200\n",
            "363/363 [==============================] - 1s 2ms/step - loss: 0.3291 - mae: 0.4036 - val_loss: 0.4017 - val_mae: 0.4487\n",
            "Epoch 105/200\n",
            "363/363 [==============================] - 1s 2ms/step - loss: 0.3288 - mae: 0.4033 - val_loss: 0.4033 - val_mae: 0.4527\n",
            "Epoch 106/200\n",
            "363/363 [==============================] - 1s 2ms/step - loss: 0.3282 - mae: 0.4034 - val_loss: 0.4033 - val_mae: 0.4455\n",
            "Epoch 107/200\n",
            "363/363 [==============================] - 1s 2ms/step - loss: 0.3281 - mae: 0.4023 - val_loss: 0.4018 - val_mae: 0.4499\n",
            "Epoch 108/200\n",
            "363/363 [==============================] - 1s 2ms/step - loss: 0.3273 - mae: 0.4025 - val_loss: 0.4021 - val_mae: 0.4506\n",
            "Epoch 109/200\n",
            "363/363 [==============================] - 1s 2ms/step - loss: 0.3269 - mae: 0.4017 - val_loss: 0.4001 - val_mae: 0.4486\n",
            "Epoch 110/200\n",
            "363/363 [==============================] - 1s 2ms/step - loss: 0.3270 - mae: 0.4021 - val_loss: 0.4012 - val_mae: 0.4509\n",
            "Epoch 111/200\n",
            "363/363 [==============================] - 1s 2ms/step - loss: 0.3264 - mae: 0.4014 - val_loss: 0.3983 - val_mae: 0.4460\n",
            "Epoch 112/200\n",
            "363/363 [==============================] - 1s 2ms/step - loss: 0.3262 - mae: 0.4013 - val_loss: 0.3999 - val_mae: 0.4490\n",
            "Epoch 113/200\n",
            "363/363 [==============================] - 1s 2ms/step - loss: 0.3257 - mae: 0.4013 - val_loss: 0.3999 - val_mae: 0.4435\n",
            "Epoch 114/200\n",
            "363/363 [==============================] - 1s 2ms/step - loss: 0.3257 - mae: 0.4008 - val_loss: 0.3991 - val_mae: 0.4472\n",
            "Epoch 115/200\n",
            "363/363 [==============================] - 1s 2ms/step - loss: 0.3246 - mae: 0.4003 - val_loss: 0.4015 - val_mae: 0.4526\n",
            "Epoch 116/200\n",
            "363/363 [==============================] - 1s 2ms/step - loss: 0.3249 - mae: 0.4002 - val_loss: 0.4000 - val_mae: 0.4492\n",
            "Epoch 117/200\n",
            "363/363 [==============================] - 1s 2ms/step - loss: 0.3244 - mae: 0.4001 - val_loss: 0.4003 - val_mae: 0.4477\n",
            "Epoch 118/200\n",
            "363/363 [==============================] - 1s 3ms/step - loss: 0.3241 - mae: 0.3993 - val_loss: 0.3988 - val_mae: 0.4458\n",
            "Epoch 119/200\n",
            "363/363 [==============================] - 1s 3ms/step - loss: 0.3234 - mae: 0.3992 - val_loss: 0.4013 - val_mae: 0.4481\n",
            "Epoch 120/200\n",
            "363/363 [==============================] - 1s 2ms/step - loss: 0.3235 - mae: 0.3992 - val_loss: 0.4000 - val_mae: 0.4482\n",
            "Epoch 121/200\n",
            "363/363 [==============================] - 1s 2ms/step - loss: 0.3230 - mae: 0.3988 - val_loss: 0.3984 - val_mae: 0.4450\n"
          ]
        }
      ]
    },
    {
      "cell_type": "code",
      "source": [
        "model.save(\"EarlyModelNewWay.h5\")\n",
        "model=keras.models.load_model(\"EarlyModelNewWay.h5\")\n",
        "maetest=model.evaluate(xtest,ytest)"
      ],
      "metadata": {
        "colab": {
          "base_uri": "https://localhost:8080/"
        },
        "id": "Pr-tljifjnvN",
        "outputId": "8056aa9f-11a3-428b-bc64-66246c754dee"
      },
      "execution_count": null,
      "outputs": [
        {
          "output_type": "stream",
          "name": "stdout",
          "text": [
            "162/162 [==============================] - 0s 1ms/step - loss: 0.3681 - mae: 0.4343\n"
          ]
        }
      ]
    },
    {
      "cell_type": "code",
      "source": [],
      "metadata": {
        "id": "cONqspMwkcf3"
      },
      "execution_count": null,
      "outputs": []
    }
  ]
}