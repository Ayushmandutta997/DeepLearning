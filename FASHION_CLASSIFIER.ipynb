{
  "nbformat": 4,
  "nbformat_minor": 0,
  "metadata": {
    "colab": {
      "provenance": []
    },
    "kernelspec": {
      "name": "python3",
      "display_name": "Python 3"
    },
    "language_info": {
      "name": "python"
    }
  },
  "cells": [
    {
      "cell_type": "code",
      "execution_count": null,
      "metadata": {
        "id": "7YXCkWBVmKjc"
      },
      "outputs": [],
      "source": [
        "import numpy as np\n",
        "import pandas as pd\n",
        "import tensorflow as tf\n",
        "from tensorflow import keras\n",
        "import matplotlib as mpl\n",
        "import matplotlib.pyplot as plt"
      ]
    },
    {
      "cell_type": "code",
      "source": [
        "fashionset=keras.datasets.fashion_mnist\n",
        "(xtrain,ytrain),(xtest,ytest)=fashionset.load_data()"
      ],
      "metadata": {
        "colab": {
          "base_uri": "https://localhost:8080/"
        },
        "id": "HTxa6_1koxH8",
        "outputId": "1aa4e319-8a3d-4380-fa29-81be233d94a2"
      },
      "execution_count": null,
      "outputs": [
        {
          "output_type": "stream",
          "name": "stdout",
          "text": [
            "Downloading data from https://storage.googleapis.com/tensorflow/tf-keras-datasets/train-labels-idx1-ubyte.gz\n",
            "29515/29515 [==============================] - 0s 0us/step\n",
            "Downloading data from https://storage.googleapis.com/tensorflow/tf-keras-datasets/train-images-idx3-ubyte.gz\n",
            "26421880/26421880 [==============================] - 0s 0us/step\n",
            "Downloading data from https://storage.googleapis.com/tensorflow/tf-keras-datasets/t10k-labels-idx1-ubyte.gz\n",
            "5148/5148 [==============================] - 0s 0us/step\n",
            "Downloading data from https://storage.googleapis.com/tensorflow/tf-keras-datasets/t10k-images-idx3-ubyte.gz\n",
            "4422102/4422102 [==============================] - 0s 0us/step\n"
          ]
        }
      ]
    },
    {
      "cell_type": "code",
      "source": [
        "plt.imshow(xtrain[1])"
      ],
      "metadata": {
        "colab": {
          "base_uri": "https://localhost:8080/",
          "height": 447
        },
        "id": "f32h7jYz03Fl",
        "outputId": "a8de7dc5-7457-4133-c628-fe608863b320"
      },
      "execution_count": null,
      "outputs": [
        {
          "output_type": "execute_result",
          "data": {
            "text/plain": [
              "<matplotlib.image.AxesImage at 0x7f90bb842e30>"
            ]
          },
          "metadata": {},
          "execution_count": 3
        },
        {
          "output_type": "display_data",
          "data": {
            "text/plain": [
              "<Figure size 640x480 with 1 Axes>"
            ],
            "image/png": "[encoded data removed]"
          },
          "metadata": {}
        }
      ]
    },
    {
      "cell_type": "code",
      "source": [
        "xtrain[1].shape"
      ],
      "metadata": {
        "colab": {
          "base_uri": "https://localhost:8080/"
        },
        "id": "ifK2fTmI1CQc",
        "outputId": "414761e7-d83b-4b8b-c182-4582937ca292"
      },
      "execution_count": null,
      "outputs": [
        {
          "output_type": "execute_result",
          "data": {
            "text/plain": [
              "(28, 28)"
            ]
          },
          "metadata": {},
          "execution_count": 4
        }
      ]
    },
    {
      "cell_type": "code",
      "source": [
        "ytrain[0]"
      ],
      "metadata": {
        "colab": {
          "base_uri": "https://localhost:8080/"
        },
        "id": "wZDgiVtF1L5f",
        "outputId": "b0731393-cefa-4372-becc-dfed38fa95e7"
      },
      "execution_count": null,
      "outputs": [
        {
          "output_type": "execute_result",
          "data": {
            "text/plain": [
              "9"
            ]
          },
          "metadata": {},
          "execution_count": 5
        }
      ]
    },
    {
      "cell_type": "code",
      "source": [
        "classname=[\"Tshirt/Top\",\"Trouser\",\"Pullover\",\"Dress\",\"Coat\",\"Sandal\",\"Shirt\",\"Sneaker\",\"Bag\",\"Ankle Boot\"]"
      ],
      "metadata": {
        "id": "bSdsqctv2y-h"
      },
      "execution_count": null,
      "outputs": []
    },
    {
      "cell_type": "code",
      "source": [
        "classname[ytrain[2]]"
      ],
      "metadata": {
        "colab": {
          "base_uri": "https://localhost:8080/",
          "height": 36
        },
        "id": "bk4QDxfr3fnv",
        "outputId": "7c3ada9c-8754-4181-e7ae-97b1dbdcc069"
      },
      "execution_count": null,
      "outputs": [
        {
          "output_type": "execute_result",
          "data": {
            "text/plain": [
              "'Tshirt/Top'"
            ],
            "application/vnd.google.colaboratory.intrinsic+json": {
              "type": "string"
            }
          },
          "metadata": {},
          "execution_count": 7
        }
      ]
    },
    {
      "cell_type": "code",
      "source": [
        "plt.imshow(xtrain[2])"
      ],
      "metadata": {
        "colab": {
          "base_uri": "https://localhost:8080/",
          "height": 447
        },
        "id": "FJJ02G4j3l0C",
        "outputId": "c4c173fc-e68e-4e84-ded1-99fbcbc569e5"
      },
      "execution_count": null,
      "outputs": [
        {
          "output_type": "execute_result",
          "data": {
            "text/plain": [
              "<matplotlib.image.AxesImage at 0x7f90b62cef50>"
            ]
          },
          "metadata": {},
          "execution_count": 8
        },
        {
          "output_type": "display_data",
          "data": {
            "text/plain": [
              "<Figure size 640x480 with 1 Axes>"
            ],
            "image/png": "[encoded data removed]"
          },
          "metadata": {}
        }
      ]
    },
    {
      "cell_type": "code",
      "source": [
        "xtrain[2]"
      ],
      "metadata": {
        "colab": {
          "base_uri": "https://localhost:8080/"
        },
        "id": "DkFC5Dz63qWe",
        "outputId": "b80cecb6-c32d-46ac-f55a-8ff50a771689"
      },
      "execution_count": null,
      "outputs": [
        {
          "output_type": "execute_result",
          "data": {
            "text/plain": [
              "array([[  0,   0,   0,   0,   0,   0,   0,   0,   0,  22, 118,  24,   0,\n",
              "          0,   0,   0,   0,  48,  88,   5,   0,   0,   0,   0,   0,   0,\n",
              "          0,   0],\n",
              "       [  0,   0,   0,   0,   0,   0,   0,   0,  12, 100, 212, 205, 185,\n",
              "        179, 173, 186, 193, 221, 142,  85,   0,   0,   0,   0,   0,   0,\n",
              "          0,   0],\n",
              "       [  0,   0,   0,   0,   0,   0,   0,   0,   0,  85,  76, 199, 225,\n",
              "        248, 255, 238, 226, 157,  68,  80,   0,   0,   0,   0,   0,   0,\n",
              "          0,   0],\n",
              "       [  0,   0,   0,   0,   0,   0,   0,   0,   0,  91,  69,  91, 201,\n",
              "        218, 225, 209, 158,  61,  93,  72,   0,   0,   0,   0,   0,   0,\n",
              "          0,   0],\n",
              "       [  0,   0,   0,   0,   0,   0,   0,   0,   0,  79,  89,  61,  59,\n",
              "         87, 108,  75,  56,  76,  97,  73,   0,   0,   0,   0,   0,   0,\n",
              "          0,   0],\n",
              "       [  0,   0,   0,   0,   0,   0,   0,   0,   0,  75,  89,  80,  80,\n",
              "         67,  63,  73,  83,  80,  96,  72,   0,   0,   0,   0,   0,   0,\n",
              "          0,   0],\n",
              "       [  0,   0,   0,   0,   0,   0,   0,   0,   0,  77,  88,  77,  80,\n",
              "         83,  83,  83,  83,  81,  95,  76,   0,   0,   0,   0,   0,   0,\n",
              "          0,   0],\n",
              "       [  0,   0,   0,   0,   0,   0,   0,   0,   0,  89,  96,  80,  83,\n",
              "         81,  84,  85,  85,  85,  97,  84,   0,   0,   0,   0,   0,   0,\n",
              "          0,   0],\n",
              "       [  0,   0,   0,   0,   0,   0,   0,   0,   0,  93,  97,  81,  85,\n",
              "         84,  85,  87,  88,  84,  99,  87,   0,   0,   0,   0,   0,   0,\n",
              "          0,   0],\n",
              "       [  0,   0,   0,   0,   0,   0,   0,   0,   0,  95,  87,  84,  87,\n",
              "         88,  85,  87,  87,  84,  92,  87,   0,   0,   0,   0,   0,   0,\n",
              "          0,   0],\n",
              "       [  0,   0,   0,   0,   0,   0,   0,   0,   0,  97,  87,  87,  85,\n",
              "         88,  87,  87,  87,  88,  85, 107,   0,   0,   0,   0,   0,   0,\n",
              "          0,   0],\n",
              "       [  0,   0,   0,   0,   0,   0,   0,   0,  17, 100,  88,  87,  87,\n",
              "         88,  87,  87,  85,  89,  77, 118,   8,   0,   0,   0,   0,   0,\n",
              "          0,   0],\n",
              "       [  0,   0,   0,   0,   0,   0,   0,   0,  10,  93,  87,  87,  87,\n",
              "         87,  87,  88,  87,  89,  80, 103,   0,   0,   0,   0,   0,   0,\n",
              "          0,   0],\n",
              "       [  0,   0,   0,   0,   0,   0,   0,   0,   9,  96,  87,  87,  87,\n",
              "         87,  87,  88,  87,  88,  87, 103,   0,   0,   0,   0,   0,   0,\n",
              "          0,   0],\n",
              "       [  0,   0,   0,   0,   0,   0,   0,   0,  12,  96,  85,  87,  87,\n",
              "         87,  85,  87,  87,  88,  89, 100,   2,   0,   0,   0,   0,   0,\n",
              "          0,   0],\n",
              "       [  0,   0,   0,   0,   0,   0,   0,   0,  20,  95,  84,  88,  85,\n",
              "         87,  88,  88,  88,  89,  88,  99,   8,   0,   0,   0,   0,   0,\n",
              "          0,   0],\n",
              "       [  0,   0,   0,   0,   0,   0,   0,   0,  21,  96,  85,  87,  85,\n",
              "         88,  88,  88,  88,  89,  89,  99,  10,   0,   0,   0,   0,   0,\n",
              "          0,   0],\n",
              "       [  0,   0,   0,   0,   0,   0,   0,   0,  24,  96,  85,  87,  85,\n",
              "         87,  88,  88,  89,  88,  91, 102,  14,   0,   0,   0,   0,   0,\n",
              "          0,   0],\n",
              "       [  0,   0,   0,   0,   0,   0,   0,   0,  25,  93,  84,  88,  87,\n",
              "         87,  87,  87,  87,  89,  91, 103,  29,   0,   0,   0,   0,   0,\n",
              "          0,   0],\n",
              "       [  0,   0,   0,   0,   0,   0,   0,   0,  30,  95,  85,  88,  88,\n",
              "         87,  87,  87,  87,  89,  88, 102,  37,   0,   0,   0,   0,   0,\n",
              "          0,   0],\n",
              "       [  0,   0,   0,   0,   0,   0,   0,   0,  34,  96,  88,  87,  87,\n",
              "         87,  87,  87,  87,  85,  85,  97,  38,   0,   0,   0,   0,   0,\n",
              "          0,   0],\n",
              "       [  0,   0,   0,   0,   0,   0,   0,   0,  40,  96,  87,  85,  87,\n",
              "         87,  87,  87,  87,  85,  84,  92,  49,   0,   0,   0,   0,   0,\n",
              "          0,   0],\n",
              "       [  0,   0,   0,   0,   0,   0,   0,   0,  46,  95,  83,  84,  87,\n",
              "         87,  87,  87,  87,  87,  84,  87,  84,   0,   0,   0,   0,   0,\n",
              "          0,   0],\n",
              "       [  0,   0,   0,   0,   0,   0,   0,   0,  72,  95,  85,  84,  85,\n",
              "         88,  87,  87,  89,  87,  85,  83,  63,   0,   0,   0,   0,   0,\n",
              "          0,   0],\n",
              "       [  0,   0,   0,   0,   0,   0,   0,   0,  64, 100,  84,  87,  88,\n",
              "         85,  88,  88,  84,  87,  83,  95,  53,   0,   0,   0,   0,   0,\n",
              "          0,   0],\n",
              "       [  0,   0,   0,   0,   0,   0,   0,   0,  10, 102, 100,  91,  91,\n",
              "         89,  85,  84,  84,  87, 108, 106,  14,   0,   0,   0,   0,   0,\n",
              "          0,   0],\n",
              "       [  0,   0,   0,   0,   0,   0,   0,   0,   0,   8,  73,  93, 104,\n",
              "        107, 103, 103, 106, 102,  75,  10,   0,   0,   0,   0,   0,   0,\n",
              "          0,   0],\n",
              "       [  0,   0,   0,   0,   0,   0,   0,   0,   1,   0,   0,   0,  18,\n",
              "         42,  57,  56,  32,   8,   0,   0,   1,   0,   0,   0,   0,   0,\n",
              "          0,   0]], dtype=uint8)"
            ]
          },
          "metadata": {},
          "execution_count": 9
        }
      ]
    },
    {
      "cell_type": "code",
      "source": [
        "xtrain_nz=xtrain/255.0;\n",
        "xtest_nz=xtest/255.0;"
      ],
      "metadata": {
        "id": "c8Opapje4iU1"
      },
      "execution_count": null,
      "outputs": []
    },
    {
      "cell_type": "code",
      "source": [
        "xvalid,xtrain=xtrain_nz[:5000],xtrain_nz[5000:]\n",
        "yvalid,ytrain=ytrain[:5000],ytrain[5000:]\n",
        "xtest=xtest_nz"
      ],
      "metadata": {
        "id": "QriUOYkSI-jY"
      },
      "execution_count": null,
      "outputs": []
    },
    {
      "cell_type": "code",
      "source": [
        "np.random.seed(55)\n",
        "tf.random.set_seed(55)"
      ],
      "metadata": {
        "id": "F65WfFK4KawR"
      },
      "execution_count": null,
      "outputs": []
    },
    {
      "cell_type": "code",
      "source": [
        "model=keras.models.Sequential()\n",
        "model.add(keras.layers.Flatten(input_shape=[28, 28]))\n",
        "model.add(keras.layers.Dense(392,activation=\"relu\"))\n",
        "model.add(keras.layers.Dense(196,activation=\"relu\"))\n",
        "model.add(keras.layers.Dense(98,activation=\"relu\"))\n",
        "model.add(keras.layers.Dense(10,activation=\"softmax\"))"
      ],
      "metadata": {
        "id": "Kj0_OIfjec6n"
      },
      "execution_count": null,
      "outputs": []
    },
    {
      "cell_type": "code",
      "source": [
        "model.summary()"
      ],
      "metadata": {
        "colab": {
          "base_uri": "https://localhost:8080/"
        },
        "id": "iu3t8ypbf2HU",
        "outputId": "d5191891-8f04-43ed-e29f-2954bd790409"
      },
      "execution_count": null,
      "outputs": [
        {
          "output_type": "stream",
          "name": "stdout",
          "text": [
            "Model: \"sequential\"\n",
            "_________________________________________________________________\n",
            " Layer (type)                Output Shape              Param #   \n",
            "=================================================================\n",
            " flatten (Flatten)           (None, 784)               0         \n",
            "                                                                 \n",
            " dense (Dense)               (None, 392)               307720    \n",
            "                                                                 \n",
            " dense_1 (Dense)             (None, 196)               77028     \n",
            "                                                                 \n",
            " dense_2 (Dense)             (None, 98)                19306     \n",
            "                                                                 \n",
            " dense_3 (Dense)             (None, 10)                990       \n",
            "                                                                 \n",
            "=================================================================\n",
            "Total params: 405,044\n",
            "Trainable params: 405,044\n",
            "Non-trainable params: 0\n",
            "_________________________________________________________________\n"
          ]
        }
      ]
    },
    {
      "cell_type": "code",
      "source": [
        "import pydot\n",
        "keras.utils.plot_model(model)"
      ],
      "metadata": {
        "colab": {
          "base_uri": "https://localhost:8080/",
          "height": 564
        },
        "id": "WdaLZUNSgml2",
        "outputId": "12db7d65-6dc6-4dc4-935f-e53010b1c184"
      },
      "execution_count": null,
      "outputs": [
        {
          "output_type": "execute_result",
          "data": {
            "image/png": "[encoded data removed]",
            "text/plain": [
              "<IPython.core.display.Image object>"
            ]
          },
          "metadata": {},
          "execution_count": 15
        }
      ]
    },
    {
      "cell_type": "code",
      "source": [
        "weights, biases=model.layers[1].get_weights()"
      ],
      "metadata": {
        "id": "4vXXpz4uhhv_"
      },
      "execution_count": null,
      "outputs": []
    },
    {
      "cell_type": "code",
      "source": [
        "weights"
      ],
      "metadata": {
        "colab": {
          "base_uri": "https://localhost:8080/"
        },
        "id": "wulGXUDNh_p6",
        "outputId": "f32a12fd-8f32-4cc6-9591-8a7bf9a6a56e"
      },
      "execution_count": null,
      "outputs": [
        {
          "output_type": "execute_result",
          "data": {
            "text/plain": [
              "array([[ 0.03607164,  0.01494598, -0.04248827, ...,  0.03945249,\n",
              "        -0.05187227, -0.05408023],\n",
              "       [-0.0666317 ,  0.0119938 ,  0.01558691, ...,  0.05368526,\n",
              "         0.03294378, -0.02205541],\n",
              "       [ 0.00412018, -0.02770581, -0.06778123, ..., -0.0146254 ,\n",
              "        -0.00236531, -0.06640854],\n",
              "       ...,\n",
              "       [-0.05676108, -0.04122225,  0.03028136, ...,  0.06871501,\n",
              "        -0.02183342, -0.02202746],\n",
              "       [ 0.05902547,  0.00758082,  0.00233996, ..., -0.03879867,\n",
              "         0.04505822,  0.04389099],\n",
              "       [ 0.02210695, -0.03274938,  0.04683917, ..., -0.06998248,\n",
              "        -0.05040508, -0.02693115]], dtype=float32)"
            ]
          },
          "metadata": {},
          "execution_count": 17
        }
      ]
    },
    {
      "cell_type": "code",
      "source": [
        "weights.shape"
      ],
      "metadata": {
        "colab": {
          "base_uri": "https://localhost:8080/"
        },
        "id": "cnQQfOAhiDEL",
        "outputId": "befcf996-ad1d-4924-ff35-9e195708c61a"
      },
      "execution_count": null,
      "outputs": [
        {
          "output_type": "execute_result",
          "data": {
            "text/plain": [
              "(784, 392)"
            ]
          },
          "metadata": {},
          "execution_count": 18
        }
      ]
    },
    {
      "cell_type": "code",
      "source": [
        "biases.shape"
      ],
      "metadata": {
        "colab": {
          "base_uri": "https://localhost:8080/"
        },
        "id": "e7fWIu3AiXH9",
        "outputId": "12dff7a1-0768-4637-a7d9-5cd5122bb719"
      },
      "execution_count": null,
      "outputs": [
        {
          "output_type": "execute_result",
          "data": {
            "text/plain": [
              "(392,)"
            ]
          },
          "metadata": {},
          "execution_count": 19
        }
      ]
    },
    {
      "cell_type": "code",
      "source": [
        "np.random.seed(42)"
      ],
      "metadata": {
        "id": "QHB2ua4yif7h"
      },
      "execution_count": null,
      "outputs": []
    },
    {
      "cell_type": "code",
      "source": [
        "np.random.rand(5)"
      ],
      "metadata": {
        "colab": {
          "base_uri": "https://localhost:8080/"
        },
        "id": "M47u2DujoYHB",
        "outputId": "de8af63f-c2cb-4bb0-f27f-b995441123e7"
      },
      "execution_count": null,
      "outputs": [
        {
          "output_type": "execute_result",
          "data": {
            "text/plain": [
              "array([0.37454012, 0.95071431, 0.73199394, 0.59865848, 0.15601864])"
            ]
          },
          "metadata": {},
          "execution_count": 21
        }
      ]
    },
    {
      "cell_type": "code",
      "source": [
        "model.compile(loss=\"sparse_categorical_crossentropy\",optimizer=\"sgd\",metrics=[\"accuracy\"])"
      ],
      "metadata": {
        "id": "Zy05fO_zoc3t"
      },
      "execution_count": null,
      "outputs": []
    },
    {
      "cell_type": "code",
      "source": [
        "Trained_model=model.fit(xtrain,ytrain,epochs=30,validation_data=(xvalid,yvalid))"
      ],
      "metadata": {
        "colab": {
          "base_uri": "https://localhost:8080/"
        },
        "id": "5emTfZeOq41m",
        "outputId": "4f1bc80d-aa62-46b2-fbd8-10869611b1bb"
      },
      "execution_count": null,
      "outputs": [
        {
          "output_type": "stream",
          "name": "stdout",
          "text": [
            "Epoch 1/30\n",
            "1719/1719 [==============================] - 7s 4ms/step - loss: 0.7145 - accuracy: 0.7621 - val_loss: 0.5107 - val_accuracy: 0.8244\n",
            "Epoch 2/30\n",
            "1719/1719 [==============================] - 8s 4ms/step - loss: 0.4691 - accuracy: 0.8357 - val_loss: 0.4186 - val_accuracy: 0.8578\n",
            "Epoch 3/30\n",
            "1719/1719 [==============================] - 10s 6ms/step - loss: 0.4243 - accuracy: 0.8494 - val_loss: 0.4244 - val_accuracy: 0.8544\n",
            "Epoch 4/30\n",
            "1719/1719 [==============================] - 6s 3ms/step - loss: 0.3956 - accuracy: 0.8598 - val_loss: 0.4167 - val_accuracy: 0.8506\n",
            "Epoch 5/30\n",
            "1719/1719 [==============================] - 6s 3ms/step - loss: 0.3728 - accuracy: 0.8667 - val_loss: 0.3741 - val_accuracy: 0.8706\n",
            "Epoch 6/30\n",
            "1719/1719 [==============================] - 6s 3ms/step - loss: 0.3566 - accuracy: 0.8728 - val_loss: 0.3488 - val_accuracy: 0.8782\n",
            "Epoch 7/30\n",
            "1719/1719 [==============================] - 5s 3ms/step - loss: 0.3423 - accuracy: 0.8777 - val_loss: 0.3516 - val_accuracy: 0.8716\n",
            "Epoch 8/30\n",
            "1719/1719 [==============================] - 6s 3ms/step - loss: 0.3293 - accuracy: 0.8801 - val_loss: 0.3388 - val_accuracy: 0.8782\n",
            "Epoch 9/30\n",
            "1719/1719 [==============================] - 6s 3ms/step - loss: 0.3189 - accuracy: 0.8839 - val_loss: 0.3401 - val_accuracy: 0.8804\n",
            "Epoch 10/30\n",
            "1719/1719 [==============================] - 5s 3ms/step - loss: 0.3094 - accuracy: 0.8879 - val_loss: 0.3380 - val_accuracy: 0.8764\n",
            "Epoch 11/30\n",
            "1719/1719 [==============================] - 6s 3ms/step - loss: 0.2994 - accuracy: 0.8912 - val_loss: 0.3287 - val_accuracy: 0.8802\n",
            "Epoch 12/30\n",
            "1719/1719 [==============================] - 5s 3ms/step - loss: 0.2913 - accuracy: 0.8932 - val_loss: 0.3602 - val_accuracy: 0.8710\n",
            "Epoch 13/30\n",
            "1719/1719 [==============================] - 6s 3ms/step - loss: 0.2840 - accuracy: 0.8964 - val_loss: 0.3120 - val_accuracy: 0.8866\n",
            "Epoch 14/30\n",
            "1719/1719 [==============================] - 5s 3ms/step - loss: 0.2761 - accuracy: 0.8984 - val_loss: 0.2987 - val_accuracy: 0.8902\n",
            "Epoch 15/30\n",
            "1719/1719 [==============================] - 6s 4ms/step - loss: 0.2684 - accuracy: 0.9011 - val_loss: 0.3092 - val_accuracy: 0.8860\n",
            "Epoch 16/30\n",
            "1719/1719 [==============================] - 5s 3ms/step - loss: 0.2629 - accuracy: 0.9029 - val_loss: 0.3142 - val_accuracy: 0.8872\n",
            "Epoch 17/30\n",
            "1719/1719 [==============================] - 6s 3ms/step - loss: 0.2554 - accuracy: 0.9077 - val_loss: 0.3109 - val_accuracy: 0.8878\n",
            "Epoch 18/30\n",
            "1719/1719 [==============================] - 5s 3ms/step - loss: 0.2503 - accuracy: 0.9091 - val_loss: 0.3047 - val_accuracy: 0.8902\n",
            "Epoch 19/30\n",
            "1719/1719 [==============================] - 6s 3ms/step - loss: 0.2447 - accuracy: 0.9105 - val_loss: 0.3028 - val_accuracy: 0.8926\n",
            "Epoch 20/30\n",
            "1719/1719 [==============================] - 5s 3ms/step - loss: 0.2391 - accuracy: 0.9123 - val_loss: 0.2932 - val_accuracy: 0.8918\n",
            "Epoch 21/30\n",
            "1719/1719 [==============================] - 6s 4ms/step - loss: 0.2335 - accuracy: 0.9132 - val_loss: 0.3013 - val_accuracy: 0.8862\n",
            "Epoch 22/30\n",
            "1719/1719 [==============================] - 5s 3ms/step - loss: 0.2274 - accuracy: 0.9157 - val_loss: 0.2841 - val_accuracy: 0.8974\n",
            "Epoch 23/30\n",
            "1719/1719 [==============================] - 6s 3ms/step - loss: 0.2221 - accuracy: 0.9187 - val_loss: 0.2967 - val_accuracy: 0.8914\n",
            "Epoch 24/30\n",
            "1719/1719 [==============================] - 5s 3ms/step - loss: 0.2184 - accuracy: 0.9199 - val_loss: 0.2876 - val_accuracy: 0.8960\n",
            "Epoch 25/30\n",
            "1719/1719 [==============================] - 6s 3ms/step - loss: 0.2129 - accuracy: 0.9224 - val_loss: 0.2988 - val_accuracy: 0.8912\n",
            "Epoch 26/30\n",
            "1719/1719 [==============================] - 6s 3ms/step - loss: 0.2080 - accuracy: 0.9238 - val_loss: 0.3057 - val_accuracy: 0.8888\n",
            "Epoch 27/30\n",
            "1719/1719 [==============================] - 5s 3ms/step - loss: 0.2030 - accuracy: 0.9264 - val_loss: 0.2965 - val_accuracy: 0.8924\n",
            "Epoch 28/30\n",
            "1719/1719 [==============================] - 6s 3ms/step - loss: 0.1990 - accuracy: 0.9273 - val_loss: 0.2926 - val_accuracy: 0.8956\n",
            "Epoch 29/30\n",
            "1719/1719 [==============================] - 5s 3ms/step - loss: 0.1936 - accuracy: 0.9304 - val_loss: 0.2905 - val_accuracy: 0.8950\n",
            "Epoch 30/30\n",
            "1719/1719 [==============================] - 6s 3ms/step - loss: 0.1892 - accuracy: 0.9308 - val_loss: 0.2990 - val_accuracy: 0.8932\n"
          ]
        }
      ]
    },
    {
      "cell_type": "code",
      "source": [
        "Trained_model.params"
      ],
      "metadata": {
        "colab": {
          "base_uri": "https://localhost:8080/"
        },
        "id": "JDPDczF9r3dr",
        "outputId": "70e10b68-f391-4134-a46e-c0e74b783938"
      },
      "execution_count": null,
      "outputs": [
        {
          "output_type": "execute_result",
          "data": {
            "text/plain": [
              "{'verbose': 1, 'epochs': 30, 'steps': 1719}"
            ]
          },
          "metadata": {},
          "execution_count": 24
        }
      ]
    },
    {
      "cell_type": "code",
      "source": [
        "Trained_model.history"
      ],
      "metadata": {
        "colab": {
          "base_uri": "https://localhost:8080/"
        },
        "id": "4QVXP9IIuPX7",
        "outputId": "1f8511f7-9508-48c0-c79f-2a3336bcc757"
      },
      "execution_count": null,
      "outputs": [
        {
          "output_type": "execute_result",
          "data": {
            "text/plain": [
              "{'loss': [0.7145155668258667,\n",
              "  0.46908825635910034,\n",
              "  0.4242609739303589,\n",
              "  0.3955545127391815,\n",
              "  0.3728249669075012,\n",
              "  0.3566410541534424,\n",
              "  0.3423275947570801,\n",
              "  0.3293112516403198,\n",
              "  0.31885814666748047,\n",
              "  0.3094175159931183,\n",
              "  0.2994310259819031,\n",
              "  0.2913188934326172,\n",
              "  0.28399190306663513,\n",
              "  0.2760865390300751,\n",
              "  0.2683849036693573,\n",
              "  0.2629002332687378,\n",
              "  0.2554139792919159,\n",
              "  0.2503127455711365,\n",
              "  0.24474912881851196,\n",
              "  0.23910999298095703,\n",
              "  0.23348939418792725,\n",
              "  0.22736598551273346,\n",
              "  0.22214464843273163,\n",
              "  0.21842284500598907,\n",
              "  0.21285346150398254,\n",
              "  0.20802125334739685,\n",
              "  0.2029552310705185,\n",
              "  0.1989671289920807,\n",
              "  0.19358941912651062,\n",
              "  0.18924760818481445],\n",
              " 'accuracy': [0.762109100818634,\n",
              "  0.8357090950012207,\n",
              "  0.849399983882904,\n",
              "  0.859781801700592,\n",
              "  0.8667091131210327,\n",
              "  0.8727818131446838,\n",
              "  0.8776545524597168,\n",
              "  0.8801090717315674,\n",
              "  0.8838545680046082,\n",
              "  0.8878909349441528,\n",
              "  0.8911818265914917,\n",
              "  0.8931999802589417,\n",
              "  0.8963636159896851,\n",
              "  0.8984000086784363,\n",
              "  0.9010909199714661,\n",
              "  0.9028727412223816,\n",
              "  0.9076545238494873,\n",
              "  0.909072756767273,\n",
              "  0.9104909300804138,\n",
              "  0.9122727513313293,\n",
              "  0.9131818413734436,\n",
              "  0.9156908988952637,\n",
              "  0.9187090992927551,\n",
              "  0.9199272990226746,\n",
              "  0.9224363565444946,\n",
              "  0.923763632774353,\n",
              "  0.9263636469841003,\n",
              "  0.9272727370262146,\n",
              "  0.930436372756958,\n",
              "  0.9308363795280457],\n",
              " 'val_loss': [0.5107492804527283,\n",
              "  0.4186341166496277,\n",
              "  0.4243771433830261,\n",
              "  0.4166692793369293,\n",
              "  0.37410488724708557,\n",
              "  0.34881266951560974,\n",
              "  0.35155919194221497,\n",
              "  0.3388330042362213,\n",
              "  0.34013766050338745,\n",
              "  0.3380310535430908,\n",
              "  0.32869163155555725,\n",
              "  0.3602464497089386,\n",
              "  0.31200963258743286,\n",
              "  0.2986742854118347,\n",
              "  0.3092140257358551,\n",
              "  0.3142184913158417,\n",
              "  0.31086960434913635,\n",
              "  0.30469512939453125,\n",
              "  0.3027706742286682,\n",
              "  0.2931745648384094,\n",
              "  0.30128225684165955,\n",
              "  0.28412196040153503,\n",
              "  0.29674047231674194,\n",
              "  0.28762418031692505,\n",
              "  0.29883459210395813,\n",
              "  0.3056936264038086,\n",
              "  0.29648885130882263,\n",
              "  0.29260867834091187,\n",
              "  0.29050323367118835,\n",
              "  0.2990342676639557],\n",
              " 'val_accuracy': [0.824400007724762,\n",
              "  0.8578000068664551,\n",
              "  0.8543999791145325,\n",
              "  0.850600004196167,\n",
              "  0.8705999851226807,\n",
              "  0.8781999945640564,\n",
              "  0.8715999722480774,\n",
              "  0.8781999945640564,\n",
              "  0.8804000020027161,\n",
              "  0.8763999938964844,\n",
              "  0.8802000284194946,\n",
              "  0.8709999918937683,\n",
              "  0.8866000175476074,\n",
              "  0.8902000188827515,\n",
              "  0.8859999775886536,\n",
              "  0.8871999979019165,\n",
              "  0.8877999782562256,\n",
              "  0.8902000188827515,\n",
              "  0.8925999999046326,\n",
              "  0.8917999863624573,\n",
              "  0.8862000107765198,\n",
              "  0.8974000215530396,\n",
              "  0.8913999795913696,\n",
              "  0.8960000276565552,\n",
              "  0.8912000060081482,\n",
              "  0.8888000249862671,\n",
              "  0.8924000263214111,\n",
              "  0.8956000208854675,\n",
              "  0.8949999809265137,\n",
              "  0.8931999802589417]}"
            ]
          },
          "metadata": {},
          "execution_count": 25
        }
      ]
    },
    {
      "cell_type": "code",
      "source": [
        "import pandas as pd\n",
        "pd.DataFrame(Trained_model.history).plot(figsize=(8,5))\n",
        "plt.grid(True)\n",
        "plt.gca().set_ylim(0,1)\n",
        "plt.show()"
      ],
      "metadata": {
        "colab": {
          "base_uri": "https://localhost:8080/",
          "height": 451
        },
        "id": "FoVLrLSav2Ls",
        "outputId": "947c4e73-16ff-46fe-e18f-1b2094d7c022"
      },
      "execution_count": null,
      "outputs": [
        {
          "output_type": "display_data",
          "data": {
            "text/plain": [
              "<Figure size 800x500 with 1 Axes>"
            ],
            "image/png": "[encoded data removed]"
          },
          "metadata": {}
        }
      ]
    },
    {
      "cell_type": "code",
      "source": [
        "model.evaluate(xtest,ytest)"
      ],
      "metadata": {
        "id": "Gzg7pGb6wt7E",
        "colab": {
          "base_uri": "https://localhost:8080/"
        },
        "outputId": "cb1a05ce-6a7c-4a15-8f4e-63bb2e76f6f8"
      },
      "execution_count": null,
      "outputs": [
        {
          "output_type": "stream",
          "name": "stdout",
          "text": [
            "313/313 [==============================] - 1s 2ms/step - loss: 0.3344 - accuracy: 0.8841\n"
          ]
        },
        {
          "output_type": "execute_result",
          "data": {
            "text/plain": [
              "[0.33436107635498047, 0.8841000199317932]"
            ]
          },
          "metadata": {},
          "execution_count": 27
        }
      ]
    },
    {
      "cell_type": "code",
      "source": [
        "xtest_new=xtest[:3]\n",
        "y_prob=model.predict(xtest_new)\n",
        "y_prob.round(3)"
      ],
      "metadata": {
        "colab": {
          "base_uri": "https://localhost:8080/"
        },
        "id": "weTfiqCt38eD",
        "outputId": "91bfc709-85e2-4f5f-f268-ad402cfcaf6a"
      },
      "execution_count": null,
      "outputs": [
        {
          "output_type": "stream",
          "name": "stdout",
          "text": [
            "1/1 [==============================] - 0s 17ms/step\n"
          ]
        },
        {
          "output_type": "execute_result",
          "data": {
            "text/plain": [
              "array([[0.   , 0.   , 0.   , 0.   , 0.   , 0.   , 0.   , 0.003, 0.   ,\n",
              "        0.996],\n",
              "       [0.   , 0.   , 1.   , 0.   , 0.   , 0.   , 0.   , 0.   , 0.   ,\n",
              "        0.   ],\n",
              "       [0.   , 1.   , 0.   , 0.   , 0.   , 0.   , 0.   , 0.   , 0.   ,\n",
              "        0.   ]], dtype=float32)"
            ]
          },
          "metadata": {},
          "execution_count": 30
        }
      ]
    },
    {
      "cell_type": "code",
      "source": [
        "y_pred=np.argmax(y_prob,axis=1)\n",
        "y_pred"
      ],
      "metadata": {
        "colab": {
          "base_uri": "https://localhost:8080/"
        },
        "id": "WFj3scba4Ipv",
        "outputId": "7a1e87ba-e7cc-470c-8cbe-01729c51649b"
      },
      "execution_count": null,
      "outputs": [
        {
          "output_type": "execute_result",
          "data": {
            "text/plain": [
              "array([9, 2, 1])"
            ]
          },
          "metadata": {},
          "execution_count": 33
        }
      ]
    },
    {
      "cell_type": "code",
      "source": [
        "np.array(classname)[y_pred]"
      ],
      "metadata": {
        "colab": {
          "base_uri": "https://localhost:8080/"
        },
        "id": "MMmvz2GE6EMK",
        "outputId": "379612af-5ab3-4ba8-eb7a-548308b6baf3"
      },
      "execution_count": null,
      "outputs": [
        {
          "output_type": "execute_result",
          "data": {
            "text/plain": [
              "array(['Ankle Boot', 'Pullover', 'Trouser'], dtype='<U10')"
            ]
          },
          "metadata": {},
          "execution_count": 35
        }
      ]
    },
    {
      "cell_type": "code",
      "source": [],
      "metadata": {
        "id": "gf6qc8QoAe_Q"
      },
      "execution_count": null,
      "outputs": []
    }
  ]
}