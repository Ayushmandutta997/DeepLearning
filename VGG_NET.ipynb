{
  "cells": [
    {
      "cell_type": "code",
      "execution_count": null,
      "metadata": {
        "colab": {
          "base_uri": "https://localhost:8080/"
        },
        "id": "dPLYNfh7rnyh",
        "outputId": "a292a501-c50d-41df-fdbe-18e0f7051c7c"
      },
      "outputs": [
        {
          "output_type": "stream",
          "name": "stdout",
          "text": [
            "Mounted at /content/drive\n"
          ]
        }
      ],
      "source": [
        "from google.colab import drive\n",
        "drive.mount('/content/drive')\n",
        "import numpy as np\n",
        "import pandas as pd\n",
        "import tensorflow as tf\n",
        "from tensorflow import keras\n",
        "import matplotlib as mpl\n",
        "import matplotlib.pyplot as plt\n",
        "import tensorflow as tf\n",
        "from tensorflow import keras\n",
        "train_dir=r'/content/drive/MyDrive/Colab Notebooks/cats_and_dogs/train'\n",
        "validation_dir=r'/content/drive/MyDrive/Colab Notebooks/cats_and_dogs/validation'\n",
        "test_dir=r'/content/drive/MyDrive/Colab Notebooks/cats_and_dogs/test'"
      ]
    },
    {
      "cell_type": "code",
      "execution_count": null,
      "metadata": {
        "colab": {
          "base_uri": "https://localhost:8080/"
        },
        "id": "QzUUriNrqfY2",
        "outputId": "b26bfc49-5be8-4774-8a63-024468460a18"
      },
      "outputs": [
        {
          "output_type": "stream",
          "name": "stdout",
          "text": [
            "Found 2020 images belonging to 2 classes.\n",
            "Found 1000 images belonging to 2 classes.\n"
          ]
        }
      ],
      "source": [
        "from keras.preprocessing.image import ImageDataGenerator\n",
        "train_datagen=ImageDataGenerator(rescale=1./255,\n",
        "                                 rotation_range=40, #rotation from -40 to 40\n",
        "                                 width_shift_range=0.2, #shifting image by 20% of total width\n",
        "                                 height_shift_range=0.2, #shifting image by 20% of total height\n",
        "                                 shear_range=0.2,\n",
        "                                 zoom_range=0.2,\n",
        "                                 horizontal_flip=True,\n",
        "                                 )\n",
        "test_datagen=ImageDataGenerator(rescale=1./255)\n",
        "train_generator=train_datagen.flow_from_directory(train_dir,target_size=(150,150),batch_size=20,class_mode='binary')\n",
        "validation_generator=test_datagen.flow_from_directory(validation_dir,target_size=(150,150),batch_size=20,class_mode='binary')"
      ]
    },
    {
      "cell_type": "code",
      "execution_count": null,
      "metadata": {
        "colab": {
          "base_uri": "https://localhost:8080/"
        },
        "id": "qRmGCRCgrktQ",
        "outputId": "7dc50d7c-87d5-4d15-eed0-85e0adf99a7a"
      },
      "outputs": [
        {
          "output_type": "stream",
          "name": "stdout",
          "text": [
            "Model: \"vgg16\"\n",
            "_________________________________________________________________\n",
            " Layer (type)                Output Shape              Param #   \n",
            "=================================================================\n",
            " input_2 (InputLayer)        [(None, 150, 150, 3)]     0         \n",
            "                                                                 \n",
            " block1_conv1 (Conv2D)       (None, 150, 150, 64)      1792      \n",
            "                                                                 \n",
            " block1_conv2 (Conv2D)       (None, 150, 150, 64)      36928     \n",
            "                                                                 \n",
            " block1_pool (MaxPooling2D)  (None, 75, 75, 64)        0         \n",
            "                                                                 \n",
            " block2_conv1 (Conv2D)       (None, 75, 75, 128)       73856     \n",
            "                                                                 \n",
            " block2_conv2 (Conv2D)       (None, 75, 75, 128)       147584    \n",
            "                                                                 \n",
            " block2_pool (MaxPooling2D)  (None, 37, 37, 128)       0         \n",
            "                                                                 \n",
            " block3_conv1 (Conv2D)       (None, 37, 37, 256)       295168    \n",
            "                                                                 \n",
            " block3_conv2 (Conv2D)       (None, 37, 37, 256)       590080    \n",
            "                                                                 \n",
            " block3_conv3 (Conv2D)       (None, 37, 37, 256)       590080    \n",
            "                                                                 \n",
            " block3_pool (MaxPooling2D)  (None, 18, 18, 256)       0         \n",
            "                                                                 \n",
            " block4_conv1 (Conv2D)       (None, 18, 18, 512)       1180160   \n",
            "                                                                 \n",
            " block4_conv2 (Conv2D)       (None, 18, 18, 512)       2359808   \n",
            "                                                                 \n",
            " block4_conv3 (Conv2D)       (None, 18, 18, 512)       2359808   \n",
            "                                                                 \n",
            " block4_pool (MaxPooling2D)  (None, 9, 9, 512)         0         \n",
            "                                                                 \n",
            " block5_conv1 (Conv2D)       (None, 9, 9, 512)         2359808   \n",
            "                                                                 \n",
            " block5_conv2 (Conv2D)       (None, 9, 9, 512)         2359808   \n",
            "                                                                 \n",
            " block5_conv3 (Conv2D)       (None, 9, 9, 512)         2359808   \n",
            "                                                                 \n",
            " block5_pool (MaxPooling2D)  (None, 4, 4, 512)         0         \n",
            "                                                                 \n",
            "=================================================================\n",
            "Total params: 14,714,688\n",
            "Trainable params: 14,714,688\n",
            "Non-trainable params: 0\n",
            "_________________________________________________________________\n"
          ]
        }
      ],
      "source": [
        "from keras.applications import VGG16\n",
        "conv_base=VGG16(weights='imagenet',include_top=False,input_shape=(150,150,3)) # weights=imagenet means we want weights after training in ilvrc competition\n",
        "# include_top=False means we want only the conv layer if we want the whole model then it would be true\n",
        "conv_base.summary()"
      ]
    },
    {
      "cell_type": "code",
      "execution_count": null,
      "metadata": {
        "colab": {
          "base_uri": "https://localhost:8080/"
        },
        "id": "fP3Me4V4tZ4f",
        "outputId": "39fd79b2-a12b-431d-dd5a-f29f9233b18b"
      },
      "outputs": [
        {
          "output_type": "stream",
          "name": "stdout",
          "text": [
            "Model: \"sequential\"\n",
            "_________________________________________________________________\n",
            " Layer (type)                Output Shape              Param #   \n",
            "=================================================================\n",
            " vgg16 (Functional)          (None, 4, 4, 512)         14714688  \n",
            "                                                                 \n",
            " flatten (Flatten)           (None, 8192)              0         \n",
            "                                                                 \n",
            " dense (Dense)               (None, 256)               2097408   \n",
            "                                                                 \n",
            " dense_1 (Dense)             (None, 1)                 257       \n",
            "                                                                 \n",
            "=================================================================\n",
            "Total params: 16,812,353\n",
            "Trainable params: 16,812,353\n",
            "Non-trainable params: 0\n",
            "_________________________________________________________________\n"
          ]
        }
      ],
      "source": [
        "from keras import models\n",
        "from keras import layers\n",
        "model=models.Sequential()\n",
        "model.add(conv_base)\n",
        "model.add(layers.Flatten())\n",
        "model.add(layers.Dense(256,activation='relu'))\n",
        "model.add(layers.Dense(1,activation='sigmoid'))\n",
        "model.summary()"
      ]
    },
    {
      "cell_type": "code",
      "execution_count": null,
      "metadata": {
        "id": "McSdu2xMxCmx"
      },
      "outputs": [],
      "source": [
        "conv_base.trainable=False # NO need to train 14714688 parameters of conv_base"
      ]
    },
    {
      "cell_type": "code",
      "execution_count": null,
      "metadata": {
        "id": "WTmNPE5nx24n"
      },
      "outputs": [],
      "source": [
        "from keras import optimizers\n",
        "model.compile(loss='binary_crossentropy',optimizer=optimizers.RMSprop(learning_rate=2e-5),metrics=['acc']) #RMSprop is better than sgd for image processing\n",
        "# smaller learning rate is used beacuse we are fine tuning already trained weights of conv layer incase we train it(here i am not)"
      ]
    },
    {
      "cell_type": "code",
      "execution_count": null,
      "metadata": {
        "colab": {
          "base_uri": "https://localhost:8080/"
        },
        "id": "FAoCi2Xw1kgx",
        "outputId": "9a2a14eb-9e70-4688-fb9d-3008b7aa22c3"
      },
      "outputs": [
        {
          "output_type": "stream",
          "name": "stdout",
          "text": [
            "Epoch 1/30\n",
            "101/101 [==============================] - 899s 9s/step - loss: 0.5852 - acc: 0.7144 - val_loss: 0.4526 - val_acc: 0.8270\n",
            "Epoch 2/30\n",
            "101/101 [==============================] - 755s 7s/step - loss: 0.4814 - acc: 0.7896 - val_loss: 0.3728 - val_acc: 0.8590\n",
            "Epoch 3/30\n",
            "101/101 [==============================] - 755s 7s/step - loss: 0.4279 - acc: 0.8144 - val_loss: 0.3301 - val_acc: 0.8580\n",
            "Epoch 4/30\n",
            "101/101 [==============================] - 750s 7s/step - loss: 0.4041 - acc: 0.8203 - val_loss: 0.3057 - val_acc: 0.8800\n",
            "Epoch 5/30\n",
            "101/101 [==============================] - 727s 7s/step - loss: 0.3757 - acc: 0.8356 - val_loss: 0.2944 - val_acc: 0.8780\n",
            "Epoch 6/30\n",
            "101/101 [==============================] - 728s 7s/step - loss: 0.3618 - acc: 0.8446 - val_loss: 0.2824 - val_acc: 0.8850\n",
            "Epoch 7/30\n",
            "101/101 [==============================] - 753s 7s/step - loss: 0.3519 - acc: 0.8480 - val_loss: 0.2695 - val_acc: 0.8970\n",
            "Epoch 8/30\n",
            "101/101 [==============================] - 754s 7s/step - loss: 0.3478 - acc: 0.8550 - val_loss: 0.2643 - val_acc: 0.8990\n",
            "Epoch 9/30\n",
            "101/101 [==============================] - 753s 7s/step - loss: 0.3326 - acc: 0.8599 - val_loss: 0.2625 - val_acc: 0.8960\n",
            "Epoch 10/30\n",
            "101/101 [==============================] - 754s 7s/step - loss: 0.3372 - acc: 0.8505 - val_loss: 0.2550 - val_acc: 0.8970\n",
            "Epoch 11/30\n",
            "101/101 [==============================] - 758s 8s/step - loss: 0.3288 - acc: 0.8554 - val_loss: 0.2518 - val_acc: 0.9010\n",
            "Epoch 12/30\n",
            "101/101 [==============================] - 734s 7s/step - loss: 0.3116 - acc: 0.8703 - val_loss: 0.2492 - val_acc: 0.9030\n",
            "Epoch 13/30\n",
            "101/101 [==============================] - 755s 8s/step - loss: 0.3322 - acc: 0.8505 - val_loss: 0.2458 - val_acc: 0.8930\n",
            "Epoch 14/30\n",
            "101/101 [==============================] - 755s 8s/step - loss: 0.3117 - acc: 0.8703 - val_loss: 0.2486 - val_acc: 0.8940\n",
            "Epoch 15/30\n",
            "101/101 [==============================] - 758s 8s/step - loss: 0.3137 - acc: 0.8569 - val_loss: 0.2416 - val_acc: 0.9030\n",
            "Epoch 16/30\n",
            "101/101 [==============================] - 757s 8s/step - loss: 0.3207 - acc: 0.8584 - val_loss: 0.2424 - val_acc: 0.9040\n",
            "Epoch 17/30\n",
            "101/101 [==============================] - 756s 7s/step - loss: 0.3164 - acc: 0.8649 - val_loss: 0.2408 - val_acc: 0.9010\n",
            "Epoch 18/30\n",
            "101/101 [==============================] - 755s 7s/step - loss: 0.3033 - acc: 0.8668 - val_loss: 0.2440 - val_acc: 0.9020\n",
            "Epoch 19/30\n",
            "101/101 [==============================] - 763s 8s/step - loss: 0.3010 - acc: 0.8757 - val_loss: 0.2374 - val_acc: 0.9050\n",
            "Epoch 20/30\n",
            "101/101 [==============================] - 742s 7s/step - loss: 0.3073 - acc: 0.8713 - val_loss: 0.2373 - val_acc: 0.9060\n",
            "Epoch 21/30\n",
            "101/101 [==============================] - 758s 8s/step - loss: 0.2783 - acc: 0.8876 - val_loss: 0.2380 - val_acc: 0.9050\n",
            "Epoch 22/30\n",
            "101/101 [==============================] - 756s 8s/step - loss: 0.2928 - acc: 0.8767 - val_loss: 0.2360 - val_acc: 0.9050\n",
            "Epoch 23/30\n",
            "101/101 [==============================] - 755s 7s/step - loss: 0.2958 - acc: 0.8728 - val_loss: 0.2359 - val_acc: 0.9060\n",
            "Epoch 24/30\n",
            "101/101 [==============================] - 756s 8s/step - loss: 0.2949 - acc: 0.8743 - val_loss: 0.2388 - val_acc: 0.9030\n",
            "Epoch 25/30\n",
            "101/101 [==============================] - 756s 8s/step - loss: 0.2916 - acc: 0.8792 - val_loss: 0.2384 - val_acc: 0.9110\n",
            "Epoch 26/30\n",
            "101/101 [==============================] - 739s 7s/step - loss: 0.2851 - acc: 0.8748 - val_loss: 0.2323 - val_acc: 0.9080\n",
            "Epoch 27/30\n",
            "101/101 [==============================] - 756s 8s/step - loss: 0.2852 - acc: 0.8733 - val_loss: 0.2304 - val_acc: 0.9070\n",
            "Epoch 28/30\n",
            "101/101 [==============================] - 732s 7s/step - loss: 0.2938 - acc: 0.8718 - val_loss: 0.2333 - val_acc: 0.9140\n",
            "Epoch 29/30\n",
            "101/101 [==============================] - 761s 8s/step - loss: 0.2932 - acc: 0.8817 - val_loss: 0.2307 - val_acc: 0.9100\n",
            "Epoch 30/30\n",
            "101/101 [==============================] - 765s 8s/step - loss: 0.2750 - acc: 0.8847 - val_loss: 0.2381 - val_acc: 0.9090\n"
          ]
        }
      ],
      "source": [
        "checkpoint_cb=keras.callbacks.ModelCheckpoint(\"CNN_Project_Model-{epoch:02d}.h5\")\n",
        "history=model.fit(train_generator,epochs=30,validation_data=validation_generator,callbacks=[checkpoint_cb])"
      ]
    },
    {
      "cell_type": "code",
      "source": [
        "import pandas as pd\n",
        "pd.DataFrame(history.history).plot(figsize=(8,5))\n",
        "plt.grid(True)\n",
        "plt.gca().set_ylim(0,1)\n",
        "plt.show()"
      ],
      "metadata": {
        "colab": {
          "base_uri": "https://localhost:8080/",
          "height": 451
        },
        "id": "BANSAhV7BKK5",
        "outputId": "188f107e-134b-46c9-9f90-293944946db5"
      },
      "execution_count": null,
      "outputs": [
        {
          "output_type": "display_data",
          "data": {
            "text/plain": [
              "<Figure size 800x500 with 1 Axes>"
            ],
            "image/png": "[encoded data removed]"
          },
          "metadata": {}
        }
      ]
    },
    {
      "cell_type": "code",
      "source": [
        "hist_df=pd.DataFrame(history.history)"
      ],
      "metadata": {
        "id": "0zpIONgwBOeY"
      },
      "execution_count": null,
      "outputs": []
    },
    {
      "cell_type": "code",
      "source": [
        "test_generator=test_datagen.flow_from_directory(test_dir,target_size=(150,150),batch_size=20,class_mode='binary')"
      ],
      "metadata": {
        "colab": {
          "base_uri": "https://localhost:8080/"
        },
        "id": "UNUWoNrQC-Jh",
        "outputId": "6ec16a19-457b-4a13-8fde-781cc303da62"
      },
      "execution_count": null,
      "outputs": [
        {
          "output_type": "stream",
          "name": "stdout",
          "text": [
            "Found 1000 images belonging to 2 classes.\n"
          ]
        }
      ]
    },
    {
      "cell_type": "code",
      "source": [
        "model.save('VGG_NET_NEW.h5')"
      ],
      "metadata": {
        "id": "_JuuZiqqot7E"
      },
      "execution_count": null,
      "outputs": []
    },
    {
      "cell_type": "code",
      "source": [
        "model.evaluate(test_generator)"
      ],
      "metadata": {
        "colab": {
          "base_uri": "https://localhost:8080/"
        },
        "id": "wQh6KDS7DL4N",
        "outputId": "e300cd46-f860-4806-bf09-5b3390c1c0ca"
      },
      "execution_count": null,
      "outputs": [
        {
          "output_type": "stream",
          "name": "stdout",
          "text": [
            "50/50 [==============================] - 336s 7s/step - loss: 0.2540 - acc: 0.8970\n"
          ]
        },
        {
          "output_type": "execute_result",
          "data": {
            "text/plain": [
              "[0.253969669342041, 0.8970000147819519]"
            ]
          },
          "metadata": {},
          "execution_count": 13
        }
      ]
    }
  ],
  "metadata": {
    "colab": {
      "provenance": []
    },
    "kernelspec": {
      "display_name": "Python 3",
      "name": "python3"
    },
    "language_info": {
      "name": "python"
    }
  },
  "nbformat": 4,
  "nbformat_minor": 0
}