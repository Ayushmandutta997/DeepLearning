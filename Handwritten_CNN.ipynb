{
  "nbformat": 4,
  "nbformat_minor": 0,
  "metadata": {
    "colab": {
      "provenance": []
    },
    "kernelspec": {
      "name": "python3",
      "display_name": "Python 3"
    },
    "language_info": {
      "name": "python"
    }
  },
  "cells": [
    {
      "cell_type": "code",
      "execution_count": null,
      "metadata": {
        "id": "exYyBhJXwPCB"
      },
      "outputs": [],
      "source": [
        "import numpy as np\n",
        "import pandas as pd\n",
        "import tensorflow as tf\n",
        "from tensorflow import keras\n",
        "import matplotlib as mpl\n",
        "import matplotlib.pyplot as plt"
      ]
    },
    {
      "cell_type": "code",
      "source": [
        "digitset = keras.datasets.mnist\n",
        "(xtrain,ytrain),(xtest,ytest)=digitset.load_data()"
      ],
      "metadata": {
        "colab": {
          "base_uri": "https://localhost:8080/"
        },
        "id": "H2JkVdGMw4MX",
        "outputId": "3b69cd07-514a-4f35-8859-8f04c5cbf436"
      },
      "execution_count": null,
      "outputs": [
        {
          "output_type": "stream",
          "name": "stdout",
          "text": [
            "Downloading data from https://storage.googleapis.com/tensorflow/tf-keras-datasets/mnist.npz\n",
            "11490434/11490434 [==============================] - 0s 0us/step\n"
          ]
        }
      ]
    },
    {
      "cell_type": "code",
      "source": [
        "xtrain.shape"
      ],
      "metadata": {
        "colab": {
          "base_uri": "https://localhost:8080/"
        },
        "id": "F94lcHfCzQui",
        "outputId": "4ad47e5a-43af-48db-b624-afbc6c30d86c"
      },
      "execution_count": null,
      "outputs": [
        {
          "output_type": "execute_result",
          "data": {
            "text/plain": [
              "(60000, 28, 28)"
            ]
          },
          "metadata": {},
          "execution_count": 3
        }
      ]
    },
    {
      "cell_type": "code",
      "source": [
        "xtrain=xtrain.reshape((60000,28,28,1))\n",
        "xtest=xtest.reshape((10000,28,28,1))"
      ],
      "metadata": {
        "id": "s980VtfGzT7t"
      },
      "execution_count": null,
      "outputs": []
    },
    {
      "cell_type": "code",
      "source": [
        "xtrainz=xtrain/255.0\n",
        "xtestz=xtest/255.0"
      ],
      "metadata": {
        "id": "5Vp59ClYzoCI"
      },
      "execution_count": null,
      "outputs": []
    },
    {
      "cell_type": "code",
      "source": [
        "xvalid,xtrain=xtrainz[:6000],xtrainz[6000:]\n",
        "yvalid,ytrain=ytrain[:6000],ytrain[6000:]\n",
        "xtest=xtestz"
      ],
      "metadata": {
        "id": "6c7e359ezu5w"
      },
      "execution_count": null,
      "outputs": []
    },
    {
      "cell_type": "code",
      "source": [
        "np.random.seed(42)\n",
        "tf.random.set_seed(42)"
      ],
      "metadata": {
        "id": "YRfSRsPP0qXQ"
      },
      "execution_count": null,
      "outputs": []
    },
    {
      "cell_type": "code",
      "source": [
        "model=keras.models.Sequential()\n",
        "model.add(keras.layers.Conv2D(filters=32,kernel_size=(3,3),strides=1,padding='valid',activation='relu',input_shape=(28,28,1)))\n",
        "model.add(keras.layers.MaxPooling2D((2,2)))\n",
        "model.add(keras.layers.Flatten())\n",
        "model.add(keras.layers.Dense(200,activation=\"relu\"))\n",
        "model.add(keras.layers.Dense(100,activation=\"relu\"))\n",
        "model.add(keras.layers.Dense(10,activation=\"softmax\"))"
      ],
      "metadata": {
        "id": "mbHn-Uf6z-z9"
      },
      "execution_count": null,
      "outputs": []
    },
    {
      "cell_type": "code",
      "source": [
        "model.compile(loss=\"sparse_categorical_crossentropy\",optimizer=\"sgd\",metrics=[\"accuracy\"])"
      ],
      "metadata": {
        "id": "cU7hcCYT04QQ"
      },
      "execution_count": null,
      "outputs": []
    },
    {
      "cell_type": "code",
      "source": [
        "Trained_model=model.fit(xtrain,ytrain,epochs=60,batch_size=64,validation_data=(xvalid,yvalid))"
      ],
      "metadata": {
        "colab": {
          "base_uri": "https://localhost:8080/"
        },
        "id": "ekAKk9qM1rr6",
        "outputId": "e556ca82-220e-4ee3-dbeb-5c78248ba0fa"
      },
      "execution_count": null,
      "outputs": [
        {
          "output_type": "stream",
          "name": "stdout",
          "text": [
            "Epoch 1/60\n",
            "844/844 [==============================] - 39s 45ms/step - loss: 0.7835 - accuracy: 0.7927 - val_loss: 0.3034 - val_accuracy: 0.9085\n",
            "Epoch 2/60\n",
            "844/844 [==============================] - 35s 42ms/step - loss: 0.2724 - accuracy: 0.9199 - val_loss: 0.2186 - val_accuracy: 0.9385\n",
            "Epoch 3/60\n",
            "844/844 [==============================] - 37s 44ms/step - loss: 0.2151 - accuracy: 0.9352 - val_loss: 0.1787 - val_accuracy: 0.9498\n",
            "Epoch 4/60\n",
            "844/844 [==============================] - 36s 43ms/step - loss: 0.1787 - accuracy: 0.9468 - val_loss: 0.1537 - val_accuracy: 0.9562\n",
            "Epoch 5/60\n",
            "844/844 [==============================] - 37s 43ms/step - loss: 0.1527 - accuracy: 0.9546 - val_loss: 0.1359 - val_accuracy: 0.9605\n",
            "Epoch 6/60\n",
            "844/844 [==============================] - 49s 58ms/step - loss: 0.1332 - accuracy: 0.9601 - val_loss: 0.1188 - val_accuracy: 0.9652\n",
            "Epoch 7/60\n",
            "844/844 [==============================] - 37s 44ms/step - loss: 0.1171 - accuracy: 0.9654 - val_loss: 0.1202 - val_accuracy: 0.9652\n",
            "Epoch 8/60\n",
            "844/844 [==============================] - 46s 55ms/step - loss: 0.1053 - accuracy: 0.9689 - val_loss: 0.0964 - val_accuracy: 0.9717\n",
            "Epoch 9/60\n",
            "844/844 [==============================] - 47s 56ms/step - loss: 0.0950 - accuracy: 0.9717 - val_loss: 0.0999 - val_accuracy: 0.9693\n",
            "Epoch 10/60\n",
            "844/844 [==============================] - 46s 54ms/step - loss: 0.0861 - accuracy: 0.9744 - val_loss: 0.0876 - val_accuracy: 0.9715\n",
            "Epoch 11/60\n",
            "844/844 [==============================] - 36s 42ms/step - loss: 0.0796 - accuracy: 0.9758 - val_loss: 0.0824 - val_accuracy: 0.9758\n",
            "Epoch 12/60\n",
            "844/844 [==============================] - 37s 44ms/step - loss: 0.0729 - accuracy: 0.9786 - val_loss: 0.0800 - val_accuracy: 0.9735\n",
            "Epoch 13/60\n",
            "844/844 [==============================] - 37s 44ms/step - loss: 0.0671 - accuracy: 0.9806 - val_loss: 0.0805 - val_accuracy: 0.9758\n",
            "Epoch 14/60\n",
            "844/844 [==============================] - 38s 45ms/step - loss: 0.0623 - accuracy: 0.9812 - val_loss: 0.0707 - val_accuracy: 0.9792\n",
            "Epoch 15/60\n",
            "844/844 [==============================] - 35s 42ms/step - loss: 0.0581 - accuracy: 0.9824 - val_loss: 0.0743 - val_accuracy: 0.9763\n",
            "Epoch 16/60\n",
            "844/844 [==============================] - 35s 42ms/step - loss: 0.0543 - accuracy: 0.9835 - val_loss: 0.0655 - val_accuracy: 0.9788\n",
            "Epoch 17/60\n",
            "844/844 [==============================] - 36s 43ms/step - loss: 0.0513 - accuracy: 0.9847 - val_loss: 0.0636 - val_accuracy: 0.9792\n",
            "Epoch 18/60\n",
            "844/844 [==============================] - 37s 43ms/step - loss: 0.0475 - accuracy: 0.9860 - val_loss: 0.0656 - val_accuracy: 0.9788\n",
            "Epoch 19/60\n",
            "844/844 [==============================] - 36s 42ms/step - loss: 0.0452 - accuracy: 0.9867 - val_loss: 0.0608 - val_accuracy: 0.9807\n",
            "Epoch 20/60\n",
            "844/844 [==============================] - 37s 44ms/step - loss: 0.0427 - accuracy: 0.9875 - val_loss: 0.0589 - val_accuracy: 0.9808\n",
            "Epoch 21/60\n",
            "844/844 [==============================] - 36s 42ms/step - loss: 0.0408 - accuracy: 0.9879 - val_loss: 0.0599 - val_accuracy: 0.9802\n",
            "Epoch 22/60\n",
            "844/844 [==============================] - 36s 42ms/step - loss: 0.0380 - accuracy: 0.9888 - val_loss: 0.0628 - val_accuracy: 0.9803\n",
            "Epoch 23/60\n",
            "844/844 [==============================] - 36s 43ms/step - loss: 0.0360 - accuracy: 0.9892 - val_loss: 0.0651 - val_accuracy: 0.9782\n",
            "Epoch 24/60\n",
            "844/844 [==============================] - 36s 43ms/step - loss: 0.0341 - accuracy: 0.9899 - val_loss: 0.0574 - val_accuracy: 0.9822\n",
            "Epoch 25/60\n",
            "844/844 [==============================] - 34s 40ms/step - loss: 0.0319 - accuracy: 0.9910 - val_loss: 0.0594 - val_accuracy: 0.9812\n",
            "Epoch 26/60\n",
            "844/844 [==============================] - 35s 41ms/step - loss: 0.0299 - accuracy: 0.9911 - val_loss: 0.0592 - val_accuracy: 0.9820\n",
            "Epoch 27/60\n",
            "844/844 [==============================] - 35s 42ms/step - loss: 0.0288 - accuracy: 0.9917 - val_loss: 0.0578 - val_accuracy: 0.9805\n",
            "Epoch 28/60\n",
            "844/844 [==============================] - 39s 46ms/step - loss: 0.0272 - accuracy: 0.9921 - val_loss: 0.0590 - val_accuracy: 0.9817\n",
            "Epoch 29/60\n",
            "844/844 [==============================] - 35s 42ms/step - loss: 0.0253 - accuracy: 0.9928 - val_loss: 0.0566 - val_accuracy: 0.9825\n",
            "Epoch 30/60\n",
            "844/844 [==============================] - 35s 41ms/step - loss: 0.0243 - accuracy: 0.9927 - val_loss: 0.0537 - val_accuracy: 0.9822\n",
            "Epoch 31/60\n",
            "844/844 [==============================] - 35s 41ms/step - loss: 0.0232 - accuracy: 0.9936 - val_loss: 0.0590 - val_accuracy: 0.9820\n",
            "Epoch 32/60\n",
            "844/844 [==============================] - 34s 41ms/step - loss: 0.0221 - accuracy: 0.9936 - val_loss: 0.0568 - val_accuracy: 0.9825\n",
            "Epoch 33/60\n",
            "844/844 [==============================] - 35s 41ms/step - loss: 0.0209 - accuracy: 0.9943 - val_loss: 0.0560 - val_accuracy: 0.9823\n",
            "Epoch 34/60\n",
            "844/844 [==============================] - 34s 41ms/step - loss: 0.0194 - accuracy: 0.9945 - val_loss: 0.0554 - val_accuracy: 0.9832\n",
            "Epoch 35/60\n",
            "844/844 [==============================] - 33s 39ms/step - loss: 0.0182 - accuracy: 0.9953 - val_loss: 0.0567 - val_accuracy: 0.9830\n",
            "Epoch 36/60\n",
            "844/844 [==============================] - 35s 41ms/step - loss: 0.0174 - accuracy: 0.9954 - val_loss: 0.0581 - val_accuracy: 0.9822\n",
            "Epoch 37/60\n",
            "844/844 [==============================] - 34s 40ms/step - loss: 0.0167 - accuracy: 0.9959 - val_loss: 0.0538 - val_accuracy: 0.9833\n",
            "Epoch 38/60\n",
            "844/844 [==============================] - 35s 41ms/step - loss: 0.0154 - accuracy: 0.9962 - val_loss: 0.0625 - val_accuracy: 0.9815\n",
            "Epoch 39/60\n",
            "844/844 [==============================] - 34s 41ms/step - loss: 0.0147 - accuracy: 0.9964 - val_loss: 0.0547 - val_accuracy: 0.9842\n",
            "Epoch 40/60\n",
            "844/844 [==============================] - 34s 41ms/step - loss: 0.0141 - accuracy: 0.9969 - val_loss: 0.0537 - val_accuracy: 0.9835\n",
            "Epoch 41/60\n",
            "844/844 [==============================] - 35s 42ms/step - loss: 0.0130 - accuracy: 0.9972 - val_loss: 0.0552 - val_accuracy: 0.9830\n",
            "Epoch 42/60\n",
            "844/844 [==============================] - 35s 41ms/step - loss: 0.0125 - accuracy: 0.9972 - val_loss: 0.0550 - val_accuracy: 0.9843\n",
            "Epoch 43/60\n",
            "844/844 [==============================] - 33s 40ms/step - loss: 0.0120 - accuracy: 0.9973 - val_loss: 0.0548 - val_accuracy: 0.9825\n",
            "Epoch 44/60\n",
            "844/844 [==============================] - 35s 41ms/step - loss: 0.0113 - accuracy: 0.9975 - val_loss: 0.0611 - val_accuracy: 0.9823\n",
            "Epoch 45/60\n",
            "844/844 [==============================] - 34s 41ms/step - loss: 0.0111 - accuracy: 0.9977 - val_loss: 0.0548 - val_accuracy: 0.9838\n",
            "Epoch 46/60\n",
            "844/844 [==============================] - 36s 42ms/step - loss: 0.0104 - accuracy: 0.9979 - val_loss: 0.0611 - val_accuracy: 0.9823\n",
            "Epoch 47/60\n",
            "844/844 [==============================] - 34s 41ms/step - loss: 0.0097 - accuracy: 0.9981 - val_loss: 0.0628 - val_accuracy: 0.9825\n",
            "Epoch 48/60\n",
            "844/844 [==============================] - 34s 40ms/step - loss: 0.0090 - accuracy: 0.9984 - val_loss: 0.0556 - val_accuracy: 0.9818\n",
            "Epoch 49/60\n",
            "844/844 [==============================] - 36s 42ms/step - loss: 0.0083 - accuracy: 0.9984 - val_loss: 0.0522 - val_accuracy: 0.9833\n",
            "Epoch 50/60\n",
            "844/844 [==============================] - 36s 43ms/step - loss: 0.0083 - accuracy: 0.9984 - val_loss: 0.0561 - val_accuracy: 0.9840\n",
            "Epoch 51/60\n",
            "844/844 [==============================] - 36s 43ms/step - loss: 0.0077 - accuracy: 0.9985 - val_loss: 0.0567 - val_accuracy: 0.9827\n",
            "Epoch 52/60\n",
            "844/844 [==============================] - 36s 42ms/step - loss: 0.0075 - accuracy: 0.9986 - val_loss: 0.0545 - val_accuracy: 0.9835\n",
            "Epoch 53/60\n",
            "844/844 [==============================] - 35s 42ms/step - loss: 0.0070 - accuracy: 0.9988 - val_loss: 0.0568 - val_accuracy: 0.9820\n",
            "Epoch 54/60\n",
            "844/844 [==============================] - 35s 41ms/step - loss: 0.0064 - accuracy: 0.9991 - val_loss: 0.0617 - val_accuracy: 0.9813\n",
            "Epoch 55/60\n",
            "844/844 [==============================] - 36s 42ms/step - loss: 0.0061 - accuracy: 0.9990 - val_loss: 0.0586 - val_accuracy: 0.9843\n",
            "Epoch 56/60\n",
            "844/844 [==============================] - 36s 42ms/step - loss: 0.0060 - accuracy: 0.9992 - val_loss: 0.0553 - val_accuracy: 0.9837\n",
            "Epoch 57/60\n",
            "844/844 [==============================] - 36s 42ms/step - loss: 0.0057 - accuracy: 0.9991 - val_loss: 0.0579 - val_accuracy: 0.9830\n",
            "Epoch 58/60\n",
            "844/844 [==============================] - 35s 42ms/step - loss: 0.0054 - accuracy: 0.9992 - val_loss: 0.0587 - val_accuracy: 0.9830\n",
            "Epoch 59/60\n",
            "844/844 [==============================] - 36s 42ms/step - loss: 0.0051 - accuracy: 0.9992 - val_loss: 0.0576 - val_accuracy: 0.9837\n",
            "Epoch 60/60\n",
            "844/844 [==============================] - 36s 43ms/step - loss: 0.0048 - accuracy: 0.9994 - val_loss: 0.0560 - val_accuracy: 0.9840\n"
          ]
        }
      ]
    },
    {
      "cell_type": "code",
      "source": [
        "import pandas as pd\n",
        "pd.DataFrame(Trained_model.history).plot(figsize=(8,5))\n",
        "plt.grid(True)\n",
        "plt.gca().set_ylim(0,1)\n",
        "plt.show()"
      ],
      "metadata": {
        "colab": {
          "base_uri": "https://localhost:8080/",
          "height": 451
        },
        "id": "GyUJSC9l14kS",
        "outputId": "f477ed15-15b4-4af8-d985-043494d69d2a"
      },
      "execution_count": null,
      "outputs": [
        {
          "output_type": "display_data",
          "data": {
            "text/plain": [
              "<Figure size 800x500 with 1 Axes>"
            ],
            "image/png": "[encoded data removed]"
          },
          "metadata": {}
        }
      ]
    },
    {
      "cell_type": "code",
      "source": [
        "ev=model.evaluate(xtest,ytest)"
      ],
      "metadata": {
        "colab": {
          "base_uri": "https://localhost:8080/"
        },
        "id": "JORGg8Fe2t7F",
        "outputId": "18349146-cb82-49f9-9486-5908b86ad7f1"
      },
      "execution_count": null,
      "outputs": [
        {
          "output_type": "stream",
          "name": "stdout",
          "text": [
            "313/313 [==============================] - 2s 8ms/step - loss: 0.0562 - accuracy: 0.9835\n"
          ]
        }
      ]
    },
    {
      "cell_type": "markdown",
      "source": [
        "#MODEL 2 (Filters=64)"
      ],
      "metadata": {
        "id": "mJE82cQj26A_"
      }
    },
    {
      "cell_type": "code",
      "source": [
        "model2=keras.models.Sequential()\n",
        "model2.add(keras.layers.Conv2D(filters=64,kernel_size=(3,3),strides=1,padding='valid',activation='relu',input_shape=(28,28,1)))\n",
        "model2.add(keras.layers.MaxPooling2D((2,2)))\n",
        "model2.add(keras.layers.Flatten())\n",
        "model2.add(keras.layers.Dense(200,activation=\"relu\"))\n",
        "model2.add(keras.layers.Dense(100,activation=\"relu\"))\n",
        "model2.add(keras.layers.Dense(10,activation=\"softmax\"))"
      ],
      "metadata": {
        "id": "3dI755fu3BcM"
      },
      "execution_count": null,
      "outputs": []
    },
    {
      "cell_type": "code",
      "source": [
        "model2.compile(loss=\"sparse_categorical_crossentropy\",optimizer=\"sgd\",metrics=[\"accuracy\"])"
      ],
      "metadata": {
        "id": "GNKPh9zm3HLF"
      },
      "execution_count": null,
      "outputs": []
    },
    {
      "cell_type": "code",
      "source": [
        "Trained_model2=model2.fit(xtrain,ytrain,epochs=60,batch_size=64,validation_data=(xvalid,yvalid))"
      ],
      "metadata": {
        "colab": {
          "base_uri": "https://localhost:8080/"
        },
        "id": "_x91Ne3i3IDg",
        "outputId": "63b42383-bbe6-4562-b45a-85a82d78c568"
      },
      "execution_count": null,
      "outputs": [
        {
          "output_type": "stream",
          "name": "stdout",
          "text": [
            "Epoch 1/60\n",
            "844/844 [==============================] - 63s 74ms/step - loss: 0.6973 - accuracy: 0.8335 - val_loss: 0.3065 - val_accuracy: 0.9160\n",
            "Epoch 2/60\n",
            "844/844 [==============================] - 62s 73ms/step - loss: 0.2798 - accuracy: 0.9174 - val_loss: 0.2302 - val_accuracy: 0.9365\n",
            "Epoch 3/60\n",
            "844/844 [==============================] - 60s 71ms/step - loss: 0.2229 - accuracy: 0.9351 - val_loss: 0.1856 - val_accuracy: 0.9448\n",
            "Epoch 4/60\n",
            "844/844 [==============================] - 60s 71ms/step - loss: 0.1843 - accuracy: 0.9451 - val_loss: 0.1693 - val_accuracy: 0.9517\n",
            "Epoch 5/60\n",
            "844/844 [==============================] - 61s 72ms/step - loss: 0.1570 - accuracy: 0.9531 - val_loss: 0.1386 - val_accuracy: 0.9613\n",
            "Epoch 6/60\n",
            "844/844 [==============================] - 60s 71ms/step - loss: 0.1368 - accuracy: 0.9592 - val_loss: 0.1305 - val_accuracy: 0.9628\n",
            "Epoch 7/60\n",
            "844/844 [==============================] - 60s 71ms/step - loss: 0.1212 - accuracy: 0.9635 - val_loss: 0.1150 - val_accuracy: 0.9678\n",
            "Epoch 8/60\n",
            "844/844 [==============================] - 60s 71ms/step - loss: 0.1084 - accuracy: 0.9679 - val_loss: 0.1022 - val_accuracy: 0.9690\n",
            "Epoch 9/60\n",
            "844/844 [==============================] - 60s 71ms/step - loss: 0.0991 - accuracy: 0.9703 - val_loss: 0.0992 - val_accuracy: 0.9683\n",
            "Epoch 10/60\n",
            "844/844 [==============================] - 61s 72ms/step - loss: 0.0897 - accuracy: 0.9728 - val_loss: 0.0870 - val_accuracy: 0.9733\n",
            "Epoch 11/60\n",
            "844/844 [==============================] - 60s 71ms/step - loss: 0.0826 - accuracy: 0.9750 - val_loss: 0.0890 - val_accuracy: 0.9722\n",
            "Epoch 12/60\n",
            "844/844 [==============================] - 60s 72ms/step - loss: 0.0759 - accuracy: 0.9768 - val_loss: 0.0829 - val_accuracy: 0.9747\n",
            "Epoch 13/60\n",
            "844/844 [==============================] - 60s 71ms/step - loss: 0.0699 - accuracy: 0.9786 - val_loss: 0.0840 - val_accuracy: 0.9738\n",
            "Epoch 14/60\n",
            "844/844 [==============================] - 60s 71ms/step - loss: 0.0657 - accuracy: 0.9809 - val_loss: 0.0720 - val_accuracy: 0.9782\n",
            "Epoch 15/60\n",
            "844/844 [==============================] - 61s 72ms/step - loss: 0.0615 - accuracy: 0.9819 - val_loss: 0.0815 - val_accuracy: 0.9733\n",
            "Epoch 16/60\n",
            "844/844 [==============================] - 61s 72ms/step - loss: 0.0574 - accuracy: 0.9827 - val_loss: 0.0687 - val_accuracy: 0.9782\n",
            "Epoch 17/60\n",
            "844/844 [==============================] - 61s 72ms/step - loss: 0.0537 - accuracy: 0.9842 - val_loss: 0.0694 - val_accuracy: 0.9810\n",
            "Epoch 18/60\n",
            "844/844 [==============================] - 60s 71ms/step - loss: 0.0507 - accuracy: 0.9851 - val_loss: 0.0706 - val_accuracy: 0.9795\n",
            "Epoch 19/60\n",
            "844/844 [==============================] - 61s 72ms/step - loss: 0.0475 - accuracy: 0.9860 - val_loss: 0.0640 - val_accuracy: 0.9802\n",
            "Epoch 20/60\n",
            "844/844 [==============================] - 61s 73ms/step - loss: 0.0448 - accuracy: 0.9867 - val_loss: 0.0648 - val_accuracy: 0.9790\n",
            "Epoch 21/60\n",
            "844/844 [==============================] - 61s 73ms/step - loss: 0.0423 - accuracy: 0.9872 - val_loss: 0.0711 - val_accuracy: 0.9787\n",
            "Epoch 22/60\n",
            "844/844 [==============================] - 60s 71ms/step - loss: 0.0402 - accuracy: 0.9881 - val_loss: 0.0611 - val_accuracy: 0.9798\n",
            "Epoch 23/60\n",
            "844/844 [==============================] - 61s 72ms/step - loss: 0.0378 - accuracy: 0.9886 - val_loss: 0.0642 - val_accuracy: 0.9788\n",
            "Epoch 24/60\n",
            "844/844 [==============================] - 60s 71ms/step - loss: 0.0354 - accuracy: 0.9898 - val_loss: 0.0603 - val_accuracy: 0.9815\n",
            "Epoch 25/60\n",
            "844/844 [==============================] - 61s 72ms/step - loss: 0.0348 - accuracy: 0.9892 - val_loss: 0.0557 - val_accuracy: 0.9832\n",
            "Epoch 26/60\n",
            "844/844 [==============================] - 60s 72ms/step - loss: 0.0322 - accuracy: 0.9902 - val_loss: 0.0602 - val_accuracy: 0.9803\n",
            "Epoch 27/60\n",
            "844/844 [==============================] - 60s 72ms/step - loss: 0.0308 - accuracy: 0.9906 - val_loss: 0.0632 - val_accuracy: 0.9803\n",
            "Epoch 28/60\n",
            "209/844 [======>.......................] - ETA: 42s - loss: 0.0307 - accuracy: 0.9916"
          ]
        }
      ]
    },
    {
      "cell_type": "code",
      "source": [
        "ev2=model2.evaluate(xtest,ytest)"
      ],
      "metadata": {
        "id": "eeILaWfF3Nqk"
      },
      "execution_count": null,
      "outputs": []
    }
  ]
}